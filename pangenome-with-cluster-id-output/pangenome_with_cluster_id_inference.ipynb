{
 "cells": [
  {
   "cell_type": "code",
   "execution_count": 3,
   "id": "bc184e04",
   "metadata": {},
   "outputs": [
    {
     "data": {
      "application/vnd.jupyter.widget-view+json": {
       "model_id": "e90888c73b254e53808b40ef2421e529",
       "version_major": 2,
       "version_minor": 0
      },
      "text/plain": [
       "Loading checkpoint shards:   0%|          | 0/2 [00:00<?, ?it/s]"
      ]
     },
     "metadata": {},
     "output_type": "display_data"
    },
    {
     "name": "stderr",
     "output_type": "stream",
     "text": [
      "Special tokens have been added in the vocabulary, make sure the associated word embeddings are fine-tuned or trained.\n"
     ]
    }
   ],
   "source": [
    "import re\n",
    "import warnings\n",
    "from typing import List\n",
    " \n",
    "import torch\n",
    "from langchain import PromptTemplate\n",
    "from langchain.chains import ConversationChain\n",
    "from langchain.chains.conversation.memory import ConversationBufferWindowMemory\n",
    "from langchain.llms import HuggingFacePipeline\n",
    "from langchain.schema import BaseOutputParser\n",
    "from transformers import (\n",
    "    AutoModelForCausalLM,\n",
    "    AutoTokenizer,\n",
    "    StoppingCriteria,\n",
    "    StoppingCriteriaList,\n",
    "    pipeline,\n",
    ")\n",
    " \n",
    "warnings.filterwarnings(\"ignore\", category=UserWarning)\n",
    "MODEL_NAME = \"pangenome-with-cluster-id\"\n",
    "model = AutoModelForCausalLM.from_pretrained(\n",
    "    MODEL_NAME, device_map=\"auto\"\n",
    ")\n",
    "model = model.eval()\n",
    "tokenizer = AutoTokenizer.from_pretrained(MODEL_NAME)\n",
    "# model genration config\n",
    "generation_config = model.generation_config\n",
    "generation_config.temperature = 0\n",
    "generation_config.num_return_sequences = 1\n",
    "generation_config.max_new_tokens = 1000\n",
    "generation_config.use_cache = False\n",
    "generation_config.repetition_penalty = 1\n",
    "generation_config.pad_token_id = tokenizer.eos_token_id\n",
    "generation_config.eos_token_id = tokenizer.eos_token_id\n",
    "\n",
    "generation_pipeline = pipeline(\n",
    "    model=model,\n",
    "    tokenizer=tokenizer,\n",
    "    return_full_text=True,\n",
    "    task=\"text-generation\",\n",
    "    generation_config=generation_config,\n",
    ")\n",
    " \n",
    "llm = HuggingFacePipeline(pipeline=generation_pipeline)\n",
    "\n"
   ]
  },
  {
   "cell_type": "code",
   "execution_count": 4,
   "id": "2d49d50d",
   "metadata": {},
   "outputs": [
    {
     "name": "stdout",
     "output_type": "stream",
     "text": [
      " \"{'taxonomy': 'd__Bacteria;p__Pseudomonadota;c__Gammaproteobacteria;o__Pseudomonadales;f__Pseudomonadaceae;g__Pseudomonas_E;s__Pseudomonas_E sp003050925', \n",
      "        'environments': ['Host-associated:Plants:Phyllosphere:Unclassified:Unclassified', 'Host-associated:Plants:Roots:Rhizosphere:Unclassified', 'Host-associated:Plants:Roots:Endosphere:Unclassified', 'Host-associated:Plants:Roots:Rhizosphere:Soil'], \n",
      "        'ordered protein lists': [[{'pangenome id': 'HNDJSHKM_mmseqsCluster_2334', 'is core gene': True, 'function':???, 'annotations': ['A0A839T3N7', 'A0A839T3N7', 'A0A5E6RAG6', 'A0A5E6RAG6']},\n",
      "        {'pangenome id': 'POCILYQJ_mmseqsCluster_0833', 'is core gene': False, 'function':'methyl-accepting chemotaxis protein', 'annotations': ['UPI001C93362B', 'UPI001C93362B']},\n",
      "        {'pangenome id': 'POCILYQJ_mmseqsCluster_3241', 'is core gene': True, 'function':'methyl-accepting chemotaxis protein', 'annotations': ['UPI001C3EED92', 'UPI0016469710', 'UPI0016469710']},\n",
      "        {'pangenome id': 'POCILYQJ_mmseqsCluster_5849', 'is core gene': True, 'function': 'Peptide ABC transporter ATP-binding protein', 'annotations': ['A0A2E5PLB0', 'A0A2E5PLB0', 'A0A109LDZ0', 'A0A089WPK3']}]}\n",
      "        Note: The function of the protein is still unknown, it is marked as??? in the output.\n",
      "CPU times: user 11min 27s, sys: 502 ms, total: 11min 27s\n",
      "Wall time: 11min 26s\n"
     ]
    }
   ],
   "source": [
    "%%time\n",
    "print(llm(\"\"\"Instruction: I have some pangenome data, they are in the format taxonomy, environments, and protein sequence.\n",
    "        There is some missing part marked by \"???\" I need you to help me complete the full text\n",
    "        the text is:\n",
    "         \"{'taxonomy': 'd__Bacteria;p__Pseudomonadota;c__Gammaproteobacteria;o__Pseudomonadales;f__Pseudomonadaceae;g__Pseudomonas_E;s__Pseudomonas_E putida_B', \n",
    "         'environments': ['Host-associated:Plants:Phyllosphere:Unclassified:Unclassified', 'Host-associated:Plants:Roots:Rhizosphere:Unclassified'], \n",
    "         'ordered protein lists': [[{'pangenome id': ???, 'is core gene': False, 'function': 'methyl-accepting chemotaxis protein', 'annotations': ['UPI001C93362B', 'UPI001C93362B']}, \n",
    "         {'pangenome id': 'POCILYQJ_mmseqsCluster_3241', 'is core gene': True, 'function': 'methyl-accepting chemotaxis protein', 'annotations': ['UPI001C3EED92', 'UPI0016469710', 'UPI0016469710']}, \n",
    "         {'pangenome id': 'POCILYQJ_mmseqsCluster_5849', 'is core gene': True, 'function': ???, 'annotations': ['A0A2E5PLB0', 'A0A2E5PLB0', 'A0A109LDZ0', 'A0A089WPK3']}}\n",
    "        \n",
    "        The output should be\n",
    "         \"{'taxonomy': 'd__Bacteria;p__Pseudomonadota;c__Gammaproteobacteria;o__Pseudomonadales;f__Pseudomonadaceae;g__Pseudomonas_E;s__Pseudomonas_E putida_B', \n",
    "         'environments': ['Host-associated:Plants:Phyllosphere:Unclassified:Unclassified', 'Host-associated:Plants:Roots:Rhizosphere:Unclassified'], \n",
    "         'ordered protein lists': [[{'pangenome id': 'POCILYQJ_mmseqsCluster_0833', 'is core gene': False, 'function': 'methyl-accepting chemotaxis protein', 'annotations': ['UPI001C93362B', 'UPI001C93362B']}, \n",
    "         {'pangenome id': 'POCILYQJ_mmseqsCluster_3241', 'is core gene': True, 'function': 'methyl-accepting chemotaxis protein', 'annotations': ['UPI001C3EED92', 'UPI0016469710', 'UPI0016469710']}, \n",
    "         {'pangenome id': 'POCILYQJ_mmseqsCluster_5849', 'is core gene': True, 'function': 'Peptide ABC transporter ATP-binding protein', 'annotations': ['A0A2E5PLB0', 'A0A2E5PLB0', 'A0A109LDZ0', 'A0A089WPK3']}}\n",
    "        \n",
    "        new text is:\n",
    "        \"{'taxonomy': 'd__Bacteria;p__Pseudomonadota;c__Gammaproteobacteria;o__Pseudomonadales;f__Pseudomonadaceae;g__Pseudomonas_E;s__Pseudomonas_E sp003050925', \n",
    "        'environments': ['Environmental:Terrestrial:Soil:Agricultural land:Unclassified', 'Host-associated:Plants:Roots:Endosphere:Unclassified', 'Host-associated:Plants:Roots:Rhizosphere:Soil'], \n",
    "        'ordered protein lists': [[{'pangenome id': 'HNDJSHKM_mmseqsCluster_2334', 'is core gene': True, 'function': ???, 'annotations': ['A0A839T3N7', 'A0A839T3N7', 'UPI001C577F44', 'A0A5E6RAG6']},\n",
    "        \n",
    "        output Completed data: \n",
    "        \"\"\"))"
   ]
  },
  {
   "cell_type": "code",
   "execution_count": null,
   "id": "4c3f8170",
   "metadata": {},
   "outputs": [],
   "source": []
  }
 ],
 "metadata": {
  "kernelspec": {
   "display_name": "Python 3 (ipykernel)",
   "language": "python",
   "name": "python3"
  },
  "language_info": {
   "codemirror_mode": {
    "name": "ipython",
    "version": 3
   },
   "file_extension": ".py",
   "mimetype": "text/x-python",
   "name": "python",
   "nbconvert_exporter": "python",
   "pygments_lexer": "ipython3",
   "version": "3.11.5"
  }
 },
 "nbformat": 4,
 "nbformat_minor": 5
}
