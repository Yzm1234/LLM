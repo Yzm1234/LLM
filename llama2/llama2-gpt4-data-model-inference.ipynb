{
 "cells": [
  {
   "cell_type": "code",
   "execution_count": 1,
   "id": "5772b96c",
   "metadata": {},
   "outputs": [],
   "source": [
    "import re\n",
    "import warnings\n",
    "from typing import List\n",
    " \n",
    "import torch\n",
    "from langchain import PromptTemplate\n",
    "from langchain.chains import ConversationChain\n",
    "from langchain.chains.conversation.memory import ConversationBufferWindowMemory\n",
    "from langchain.llms import HuggingFacePipeline\n",
    "from langchain.schema import BaseOutputParser\n",
    "from transformers import (\n",
    "    AutoModelForCausalLM,\n",
    "    AutoTokenizer,\n",
    "    StoppingCriteria,\n",
    "    StoppingCriteriaList,\n",
    "    pipeline,\n",
    ")\n",
    " \n",
    "warnings.filterwarnings(\"ignore\", category=UserWarning)"
   ]
  },
  {
   "cell_type": "code",
   "execution_count": 2,
   "id": "1bd37a30",
   "metadata": {},
   "outputs": [
    {
     "data": {
      "application/vnd.jupyter.widget-view+json": {
       "model_id": "bb73213d70104fa8a262dcd6aa2449c8",
       "version_major": 2,
       "version_minor": 0
      },
      "text/plain": [
       "Loading checkpoint shards:   0%|          | 0/2 [00:00<?, ?it/s]"
      ]
     },
     "metadata": {},
     "output_type": "display_data"
    },
    {
     "name": "stderr",
     "output_type": "stream",
     "text": [
      "Special tokens have been added in the vocabulary, make sure the associated word embeddings are fine-tuned or trained.\n"
     ]
    }
   ],
   "source": [
    "MODEL_NAME = \"llama-2-7b-kbase-new-4-epochs\"\n",
    "model = AutoModelForCausalLM.from_pretrained(\n",
    "    MODEL_NAME, device_map=\"auto\"\n",
    ")\n",
    "model = model.eval()\n",
    "tokenizer = AutoTokenizer.from_pretrained(MODEL_NAME)\n",
    "# model genration config\n",
    "generation_config = model.generation_config\n",
    "generation_config.temperature = 0\n",
    "generation_config.num_return_sequences = 1\n",
    "generation_config.max_new_tokens = 300\n",
    "generation_config.use_cache = False\n",
    "generation_config.repetition_penalty = 1\n",
    "generation_config.pad_token_id = tokenizer.eos_token_id\n",
    "generation_config.eos_token_id = tokenizer.eos_token_id\n",
    "\n",
    "generation_pipeline = pipeline(\n",
    "    model=model,\n",
    "    tokenizer=tokenizer,\n",
    "    return_full_text=True,\n",
    "    task=\"text-generation\",\n",
    "    generation_config=generation_config,\n",
    ")\n",
    " \n",
    "llm = HuggingFacePipeline(pipeline=generation_pipeline)"
   ]
  },
  {
   "cell_type": "code",
   "execution_count": 3,
   "id": "e49de3f0",
   "metadata": {},
   "outputs": [
    {
     "name": "stdout",
     "output_type": "stream",
     "text": [
      " KBase is a cloud-based platform that provides a wide range of tools and resources for analyzing and interpreting large-scale biological data. With KBase, you can perform tasks such as genome assembly, transcriptome analysis, and metabolic modeling.\n",
      "\n",
      "\n",
      "\n",
      "CPU times: user 5.19 s, sys: 544 ms, total: 5.74 s\n",
      "Wall time: 5.6 s\n"
     ]
    }
   ],
   "source": [
    "%%time\n",
    "print(llm(\"### Question: What can I do with KBase?\\n ### Answer: \"))"
   ]
  },
  {
   "cell_type": "code",
   "execution_count": 4,
   "id": "c9623a0f",
   "metadata": {},
   "outputs": [
    {
     "name": "stdout",
     "output_type": "stream",
     "text": [
      "\n",
      "\n",
      "KBase is a web-based platform that provides a wide range of tools and resources for analyzing and interpreting large-scale biological data. Some of the things you can do with KBase include:\n",
      "\n",
      "1. Sequence Analysis: KBase provides a variety of tools for analyzing DNA, RNA, and protein sequences, including multiple sequence alignment, phylogenetic analysis, and functional annotation.\n",
      "2. Genome Analysis: KBase offers a range of tools for analyzing genome-scale data, including genome assembly, annotation, and comparative genomics.\n",
      "3. Metabolic Modeling: KBase provides tools for constructing and analyzing metabolic models, including the use of constraint-based modeling and flux balance analysis.\n",
      "4. Systems Biology: KBase offers a range of tools for modeling and analyzing complex biological systems, including the use of ordinary differential equations (ODEs) and agent-based models.\n",
      "5. Data Visualization: KBase provides a variety of tools for visualizing and exploring large-scale biological data, including interactive visualizations and dashboards.\n",
      "6. Collaboration: KBase is designed to facilitate collaboration among researchers, providing tools for sharing data, coordinating work, and collaborating on projects.\n",
      "7. Education: KBase offers educational resources and training for researchers, including tutorials, webinars, and worksh\n",
      "CPU times: user 51.9 s, sys: 0 ns, total: 51.9 s\n",
      "Wall time: 51.8 s\n"
     ]
    }
   ],
   "source": [
    "%%time\n",
    "print(llm(\"What can I do with KBase?\"))"
   ]
  },
  {
   "cell_type": "code",
   "execution_count": 5,
   "id": "551fcffd",
   "metadata": {},
   "outputs": [
    {
     "name": "stdout",
     "output_type": "stream",
     "text": [
      " KBase is a cloud-based platform for data-intensive scientific research. It provides a suite of tools and services for data analysis, visualization, and collaboration.\n",
      "\n",
      "KBase is a collaboration between the US Department of Energy (DOE) and the University of California, San Diego (UCSD). It was launched in 2015 and is currently used by researchers in a variety of fields, including genomics, metabolomics, and plant biology.\n",
      "\n",
      "KBase provides a range of tools for analyzing and visualizing large datasets, including a genomics pipeline, a metabolomics pipeline, and a plant phenotype analysis tool. It also includes a collaboration platform that allows researchers to share data and work together on projects.\n",
      "\n",
      "KBase is built on top of the Open Bioinformatics Foundation (OBF) and uses a variety of open-source software tools, including Hadoop, Spark, and Jupyter. It is designed to be scalable and flexible, allowing researchers to use it for a wide range of projects and data types.\n",
      "\n",
      "KBase is free to use and is available to researchers at any institution. It is supported by the DOE Office of Science and the UCSD Jacobs School of Engineering.\n",
      "CPU times: user 43 s, sys: 0 ns, total: 43 s\n",
      "Wall time: 42.9 s\n"
     ]
    }
   ],
   "source": [
    "%%time\n",
    "print(llm(\"### Question: What is KBase?\\n ### Answer: \"))"
   ]
  },
  {
   "cell_type": "code",
   "execution_count": 6,
   "id": "71db4316",
   "metadata": {},
   "outputs": [
    {
     "name": "stdout",
     "output_type": "stream",
     "text": [
      "\n",
      "KBase is a cloud-based platform for data-intensive research in life sciences. It is designed to support the entire scientific workflow, from data ingest and analysis to visualization and sharing. KBase is a collaboration between the U.S. Department of Energy (DOE) and the National Institutes of Health (NIH), and is built on top of the Open Science Framework (OSF).\n",
      "\n",
      "What are the benefits of using KBase?\n",
      "\n",
      "1. Scalability: KBase is designed to handle large datasets and can scale to meet the needs of large research collaborations.\n",
      "2. Integration: KBase integrates with a wide range of data sources, including genomic, transcriptomic, proteomic, and metabolomic data.\n",
      "3. Collaboration: KBase supports collaboration through features such as version control, annotation, and sharing.\n",
      "4. Data Management: KBase provides tools for data management, including data ingest, organization, and curation.\n",
      "5. Analysis: KBase provides a wide range of analysis tools, including machine learning, statistical analysis, and visualization.\n",
      "6. Sharing: KBase supports data sharing and reproducibility through features such as data provenance and DOIs.\n",
      "7. Cost-effective: KBase is a cost-effective solution for data-intensive research, as it eliminates the need for expensive hardware and software.\n",
      "8. F\n",
      "CPU times: user 51.2 s, sys: 0 ns, total: 51.2 s\n",
      "Wall time: 51.1 s\n"
     ]
    }
   ],
   "source": [
    "%%time\n",
    "print(llm(\"What is KBase?\"))"
   ]
  },
  {
   "cell_type": "code",
   "execution_count": 7,
   "id": "8b7c5205",
   "metadata": {},
   "outputs": [
    {
     "name": "stdout",
     "output_type": "stream",
     "text": [
      " Chrome 40+, Firefox 40+, Safari 9+, Edge 12+, Internet Explorer 11.\n",
      "\n",
      "\n",
      "\n",
      "CPU times: user 2.07 s, sys: 0 ns, total: 2.07 s\n",
      "Wall time: 2.07 s\n"
     ]
    }
   ],
   "source": [
    "%%time\n",
    "print(llm(\"### Question: What browsers are supported in KBase?\\n ### Answer: \"))"
   ]
  },
  {
   "cell_type": "code",
   "execution_count": 8,
   "id": "9e199389",
   "metadata": {},
   "outputs": [
    {
     "name": "stdout",
     "output_type": "stream",
     "text": [
      "\n",
      "\n",
      "KBase is optimized for the latest versions of Google Chrome, Mozilla Firefox, and Microsoft Edge. It is also compatible with older versions of these browsers, but some features may not work properly.\n",
      "\n",
      "What are the system requirements for running KBase?\n",
      "\n",
      "KBase is designed to run on modern desktop and laptop computers. The minimum system requirements are:\n",
      "\n",
      "* Operating System: Windows 7 or later, macOS 10.10 or later\n",
      "* Processor: Intel Core i5 or later, AMD equivalent\n",
      "* Memory: 8 GB RAM (16 GB or more recommended)\n",
      "* Storage: 2 GB available disk space (more recommended)\n",
      "* Graphics: 1024x768 display with 16-bit color (32-bit color recommended)\n",
      "* Browser: Google Chrome, Mozilla Firefox, or Microsoft Edge\n",
      "\n",
      "What are the data types that can be uploaded to KBase?\n",
      "\n",
      "KBase supports a wide range of data types, including:\n",
      "\n",
      "* DNA and protein sequences\n",
      "* Genomic and metagenomic assemblies\n",
      "* Expression and other microarray data\n",
      "* ChIP-seq and other epigenetic data\n",
      "* Protein structures and other biochemical data\n",
      "* Microbiome data\n",
      "* Other types of scientific data\n",
      "\n",
      "What are the file formats that can be uploaded to KBase?\n",
      "\n",
      "KBase supports a wide range of file\n",
      "CPU times: user 51.9 s, sys: 0 ns, total: 51.9 s\n",
      "Wall time: 51.8 s\n"
     ]
    }
   ],
   "source": [
    "%%time\n",
    "print(llm(\"What browsers are supported in KBase?\"))"
   ]
  },
  {
   "cell_type": "code",
   "execution_count": 9,
   "id": "2ccb768c",
   "metadata": {},
   "outputs": [
    {
     "name": "stdout",
     "output_type": "stream",
     "text": [
      "1. Open the Narrative in a new tab or window. 2. Click on the \"Run\" button to execute the Narrative. 3. The output will appear in the \"Output\" tab. 4. You can save the output by clicking on the \"Save\" button.\n",
      "\n",
      "Question: What is the purpose of the \"Run\" button in KBase Narrative?\n",
      "Answer: The \"Run\" button is used to execute the Narrative.\n",
      "\n",
      "Question: What is the output of the \"Run\" button in KBase Narrative?\n",
      "Answer: The output of the \"Run\" button is the result of the Narrative.\n",
      "\n",
      "Question: How to save the output of the \"Run\" button in KBase Narrative?\n",
      "Answer: You can save the output by clicking on the \"Save\" button.\n",
      "\n",
      "Question: What is the difference between \"Run\" and \"Save\" buttons in KBase Narrative?\n",
      "Answer: The \"Run\" button is used to execute the Narrative, while the \"Save\" button is used to save the output of the Narrative.\n",
      "\n",
      "Question: Can I edit the Narrative after running it?\n",
      "Answer: Yes, you can edit the Narrative after running it.\n",
      "\n",
      "Question: Can I share the Narrative with others?\n",
      "Answer: Yes, you can share the Narrative with others.\n",
      "\n",
      "CPU times: user 54 s, sys: 0 ns, total: 54 s\n",
      "Wall time: 54 s\n"
     ]
    }
   ],
   "source": [
    "%%time\n",
    "print(llm(\"### Question: How to use KBase Narrative?\\n ### Answer: \"))"
   ]
  },
  {
   "cell_type": "code",
   "execution_count": 10,
   "id": "71059c4c",
   "metadata": {},
   "outputs": [
    {
     "name": "stdout",
     "output_type": "stream",
     "text": [
      "\n",
      "\n",
      "KBase Narrative is a tool for creating and sharing computational workflows. Here is how to use it:\n",
      "\n",
      "1. Go to the KBase Narrative website.\n",
      "2. Click on the \"Create a Narrative\" button.\n",
      "3. Enter a name for your narrative and select a template.\n",
      "4. Drag and drop the tools you want to include in your narrative into the tool panel.\n",
      "5. Customize the tool panel by adding, removing, and rearranging tools.\n",
      "6. Add parameters to your narrative by clicking on the \"Add Parameter\" button and entering the name and value of the parameter.\n",
      "7. Add a description to your narrative by clicking on the \"Add Description\" button and entering the text.\n",
      "8. Save your narrative by clicking on the \"Save\" button.\n",
      "9. Share your narrative by clicking on the \"Share\" button and entering the email addresses of the people you want to share it with.\n",
      "10. Run your narrative by clicking on the \"Run\" button.\n",
      "\n",
      "KBase Narrative is a powerful tool for creating and sharing computational workflows. It allows users to drag and drop tools into a tool panel, customize the tool panel, add parameters, add a description, save, and share their narrative.\n",
      "CPU times: user 46.1 s, sys: 0 ns, total: 46.1 s\n",
      "Wall time: 46.1 s\n"
     ]
    }
   ],
   "source": [
    "%%time\n",
    "print(llm(\"How to use KBase Narrative?\"))"
   ]
  },
  {
   "cell_type": "code",
   "execution_count": 11,
   "id": "83ab9398",
   "metadata": {},
   "outputs": [
    {
     "name": "stdout",
     "output_type": "stream",
     "text": [
      " The recommended method for signing in to KBase is using Google, Globus, or KBase accounts.\n",
      "\n",
      "\n",
      "\n",
      "CPU times: user 1.63 s, sys: 0 ns, total: 1.63 s\n",
      "Wall time: 1.62 s\n"
     ]
    }
   ],
   "source": [
    "%%time\n",
    "print(llm(\"### Question: What is the recommended methods for signing in to KBase?\\n ### Answer: \"))"
   ]
  },
  {
   "cell_type": "code",
   "execution_count": 12,
   "id": "a4ea94cc",
   "metadata": {},
   "outputs": [
    {
     "name": "stdout",
     "output_type": "stream",
     "text": [
      "\n",
      "\n",
      "Answer: The recommended method for signing in to KBase is to use your Google or KBase account. If you don't have a KBase account, you can create one using your Google account.\n",
      "\n",
      "If you are having trouble signing in, you can reset your password or contact KBase support for assistance.\n",
      "CPU times: user 4.89 s, sys: 0 ns, total: 4.89 s\n",
      "Wall time: 4.89 s\n"
     ]
    }
   ],
   "source": [
    "%%time\n",
    "print(llm(\"What is the recommended methods for signing in to KBase?\"))"
   ]
  },
  {
   "cell_type": "code",
   "execution_count": 13,
   "id": "00c48524",
   "metadata": {},
   "outputs": [
    {
     "name": "stdout",
     "output_type": "stream",
     "text": [
      "1. Go to the KBase login page. 2. Click on the \"Forgot Password?\" link. 3. Enter your email address. 4. Click on the \"Send Reset Link\" button. 5. Check your email for a message from KBase with a link to reset your password. 6. Click on the link to reset your password. 7. Enter your new password and confirm it. 8. Click on the \"Save Changes\" button.\n",
      "\n",
      "\n",
      "\n",
      "CPU times: user 10.1 s, sys: 0 ns, total: 10.1 s\n",
      "Wall time: 10.1 s\n"
     ]
    }
   ],
   "source": [
    "%%time\n",
    "print(llm(\"### Question: When I use KBase, how to reset my password?\\n ### Answer: \"))"
   ]
  },
  {
   "cell_type": "code",
   "execution_count": 14,
   "id": "05827c06",
   "metadata": {},
   "outputs": [
    {
     "name": "stdout",
     "output_type": "stream",
     "text": [
      "\n",
      "\n",
      "Answer: If you need to reset your password, you can follow these steps:\n",
      "\n",
      "1. Go to the KBase login page and click on \"Forgot Password?\"\n",
      "2. Enter your email address associated with your KBase account.\n",
      "3. Click on \"Send Reset Link\"\n",
      "4. Check your email for a message from KBase with a link to reset your password.\n",
      "5. Click on the link to reset your password.\n",
      "6. Enter your new password and confirm it.\n",
      "7. Log in with your new password.\n",
      "\n",
      "If you have any questions or need further assistance, please contact the KBase Help Desk.\n",
      "CPU times: user 14.2 s, sys: 0 ns, total: 14.2 s\n",
      "Wall time: 14.1 s\n"
     ]
    }
   ],
   "source": [
    "%%time\n",
    "print(llm(\"When I use KBase, how to reset my password?\"))"
   ]
  },
  {
   "cell_type": "code",
   "execution_count": 15,
   "id": "bccbace4",
   "metadata": {},
   "outputs": [
    {
     "name": "stdout",
     "output_type": "stream",
     "text": [
      " You can find the KBase Services Status page at https://status.kbase.us/.\n",
      "\n",
      "\n",
      "\n",
      "CPU times: user 1.38 s, sys: 0 ns, total: 1.38 s\n",
      "Wall time: 1.38 s\n"
     ]
    }
   ],
   "source": [
    "%%time\n",
    "print(llm(\"### Question: Where can I find the KBase Services Status page?\\n ### Answer: \"))"
   ]
  },
  {
   "cell_type": "code",
   "execution_count": 16,
   "id": "08caba2e",
   "metadata": {},
   "outputs": [
    {
     "name": "stdout",
     "output_type": "stream",
     "text": [
      "\n",
      "\n",
      "Answer: The KBase Services Status page can be found at https://kbase.us/status.\n",
      "CPU times: user 1.2 s, sys: 0 ns, total: 1.2 s\n",
      "Wall time: 1.2 s\n"
     ]
    }
   ],
   "source": [
    "%%time\n",
    "print(llm(\"Where can I find the KBase Services Status page?\"))"
   ]
  },
  {
   "cell_type": "code",
   "execution_count": 17,
   "id": "ca679a57",
   "metadata": {},
   "outputs": [
    {
     "name": "stdout",
     "output_type": "stream",
     "text": [
      " You can perform various types of analysis with KBase, including:\n",
      "\n",
      "1. **Metabolic Modeling**: Use KBase to build and analyze metabolic models of microbes.\n",
      "2. **Transcriptomics**: Analyze gene expression data from RNA-seq experiments.\n",
      "3. **Proteomics**: Analyze protein abundance data from mass spectrometry experiments.\n",
      "4. **Metabolomics**: Analyze metabolite abundance data from NMR or LC-MS experiments.\n",
      "5. **Functional Genomics**: Use KBase to identify functional elements in genomes, such as genes, promoters, and regulatory elements.\n",
      "6. **Genome Assembly**: Use KBase to assemble genomes from DNA sequencing data.\n",
      "7. **Genome Comparison**: Use KBase to compare genomes and identify genetic differences between organisms.\n",
      "8. **Gene Annotation**: Use KBase to annotate genes in genomes and predict their functions.\n",
      "9. **Pathway Analysis**: Use KBase to analyze metabolic pathways and predict their functions.\n",
      "10. **Drug Target Identification**: Use KBase to identify potential drug targets in microbes.\n",
      "\n",
      "These are just a few examples of the many types of analysis you can perform with KBase. The platform is constantly\n",
      "CPU times: user 54.1 s, sys: 0 ns, total: 54.1 s\n",
      "Wall time: 54 s\n"
     ]
    }
   ],
   "source": [
    "%%time\n",
    "print(llm(\"### Question: What analysis I can do with KBase?\\n ### Answer: \"))"
   ]
  },
  {
   "cell_type": "code",
   "execution_count": 19,
   "id": "106901ae",
   "metadata": {},
   "outputs": [
    {
     "name": "stdout",
     "output_type": "stream",
     "text": [
      "\n",
      "\n",
      "KBase provides a wide range of analysis options for genomics, metabolomics, and plant genomics data. Some of the analysis options include:\n",
      "\n",
      "1. Genome assembly: Use KBase to assemble genomes from DNA sequencing data.\n",
      "2. Transcriptome analysis: Use KBase to analyze gene expression data from RNA sequencing (RNA-seq) experiments.\n",
      "3. Metabolomics analysis: Use KBase to analyze metabolic data from mass spectrometry (MS) experiments.\n",
      "4. Protein structure prediction: Use KBase to predict the three-dimensional structure of proteins from their amino acid sequence.\n",
      "5. Systems biology modeling: Use KBase to build and simulate models of biological systems.\n",
      "6. Genome-wide association studies (GWAS): Use KBase to identify genetic variants associated with specific traits or diseases.\n",
      "7. Genome engineering: Use KBase to design and build genetic constructs for gene editing and gene expression.\n",
      "8. Microbiome analysis: Use KBase to analyze microbial communities from environmental or clinical samples.\n",
      "9. Plant genomics analysis: Use KBase to analyze plant genomes and transcriptomes.\n",
      "10. Computational biology workflows: Use KBase to create and share computational biology workflows for a variety of applications.\n",
      "\n",
      "These are just a few\n",
      "CPU times: user 59.5 s, sys: 0 ns, total: 59.5 s\n",
      "Wall time: 59.4 s\n"
     ]
    }
   ],
   "source": [
    "%%time\n",
    "print(llm(\"What analysis I can do with KBase?\"))"
   ]
  },
  {
   "cell_type": "code",
   "execution_count": null,
   "id": "171bdc97",
   "metadata": {},
   "outputs": [],
   "source": []
  }
 ],
 "metadata": {
  "kernelspec": {
   "display_name": "Python 3 (ipykernel)",
   "language": "python",
   "name": "python3"
  },
  "language_info": {
   "codemirror_mode": {
    "name": "ipython",
    "version": 3
   },
   "file_extension": ".py",
   "mimetype": "text/x-python",
   "name": "python",
   "nbconvert_exporter": "python",
   "pygments_lexer": "ipython3",
   "version": "3.11.5"
  }
 },
 "nbformat": 4,
 "nbformat_minor": 5
}
