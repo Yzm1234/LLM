{
 "cells": [
  {
   "cell_type": "code",
   "execution_count": 1,
   "id": "ded8d4c3",
   "metadata": {},
   "outputs": [],
   "source": [
    "import re\n",
    "import warnings\n",
    "from typing import List\n",
    " \n",
    "import torch\n",
    "from langchain import PromptTemplate\n",
    "from langchain.chains import ConversationChain\n",
    "from langchain.chains.conversation.memory import ConversationBufferWindowMemory\n",
    "from langchain.llms import HuggingFacePipeline\n",
    "from langchain.schema import BaseOutputParser\n",
    "from transformers import (\n",
    "    AutoModelForCausalLM,\n",
    "    AutoTokenizer,\n",
    "    StoppingCriteria,\n",
    "    StoppingCriteriaList,\n",
    "    pipeline,\n",
    ")\n",
    " \n",
    "warnings.filterwarnings(\"ignore\", category=UserWarning)"
   ]
  },
  {
   "cell_type": "markdown",
   "id": "e39f9d12",
   "metadata": {},
   "source": [
    "## Using transformer pipeline"
   ]
  },
  {
   "cell_type": "code",
   "execution_count": 2,
   "id": "ad9030d7",
   "metadata": {},
   "outputs": [
    {
     "name": "stderr",
     "output_type": "stream",
     "text": [
      "Special tokens have been added in the vocabulary, make sure the associated word embeddings are fine-tuned or trained.\n"
     ]
    },
    {
     "data": {
      "application/vnd.jupyter.widget-view+json": {
       "model_id": "3382888b82f84725bfe2a89f5ce71641",
       "version_major": 2,
       "version_minor": 0
      },
      "text/plain": [
       "Loading checkpoint shards:   0%|          | 0/2 [00:00<?, ?it/s]"
      ]
     },
     "metadata": {},
     "output_type": "display_data"
    },
    {
     "name": "stdout",
     "output_type": "stream",
     "text": [
      "<s>[INST] what is KBase? [/INST]  KBase (Knowledge Base) is a web-based platform developed by the US Department of Energy (DOE) that provides a suite of tools and resources for the analysis, visualization, and sharing of large-scale biological data. It is designed to support the analysis of complex biological systems, such as microbial communities, plant genomes, and metabolic pathways, and to facilitate collaboration among researchers across different disciplines.\n",
      "\n",
      "KBase was originally developed as a collaboration between the DOE Joint Genome Institute (JGI) and the Lawrence Berkeley National Laboratory (LBNL), and has since expanded to include partnerships with other organizations, including the University of California, the University of Texas, and the University of Illinois.\n",
      "\n",
      "KBase provides a range of tools and resources for working with large-scale biological data, including:\n",
      "\n",
      "1\n",
      "CPU times: user 2h 24min 24s, sys: 1min 55s, total: 2h 26min 19s\n",
      "Wall time: 6min 18s\n"
     ]
    }
   ],
   "source": [
    "%%time\n",
    "# Generate Text\n",
    "MODEL_NAME = \"NousResearch/Llama-2-7b-chat-hf\"\n",
    "query = \"what is KBase?\"\n",
    "llama_tokenizer = AutoTokenizer.from_pretrained(MODEL_NAME, trust_remote_code=True)\n",
    "llama_tokenizer.pad_token = llama_tokenizer.eos_token\n",
    "llama_tokenizer.padding_side = \"right\"  # Fix for fp16\n",
    "text_gen = pipeline(task=\"text-generation\", model=MODEL_NAME, tokenizer=llama_tokenizer, max_length=200)\n",
    "output = text_gen(f\"<s>[INST] {query} [/INST]\")\n",
    "print(output[0]['generated_text'])"
   ]
  },
  {
   "cell_type": "code",
   "execution_count": 3,
   "id": "7e9eaff3",
   "metadata": {},
   "outputs": [
    {
     "name": "stdout",
     "output_type": "stream",
     "text": [
      "how to use KBase narrative?\n",
      "\n",
      "KBase Narrative is a tool for creating and sharing narratives in the context of scientific research. It allows users to create and edit narratives, as well as to share them with others. Here are some steps on how to use KBase Narrative:\n",
      "\n",
      "1. Sign up for a KBase account: To use KBase Narrative, you need to sign up for a KBase account. You can sign up for a free account on the KBase website.\n",
      "2. Log in to your KBase account: Once you have signed up for a KBase account, you can log in to your account using your email address and password.\n",
      "3. Access KBase Narrative: Once you are logged in to your KBase account, you can access KBase Narrative by clicking on the \"Narrative\" tab in the top navigation bar.\n",
      "4. Create a new narrative: To\n",
      "CPU times: user 2h 21min 25s, sys: 54.8 s, total: 2h 22min 19s\n",
      "Wall time: 4min 10s\n"
     ]
    }
   ],
   "source": [
    "%%time\n",
    "# Generate Text\n",
    "output = text_gen(\"how to use KBase narrative?\")\n",
    "print(output[0]['generated_text'])"
   ]
  },
  {
   "cell_type": "markdown",
   "id": "48f0ef7f",
   "metadata": {},
   "source": [
    "## Using tokenizer decoder"
   ]
  },
  {
   "cell_type": "code",
   "execution_count": 4,
   "id": "e27661a6",
   "metadata": {},
   "outputs": [
    {
     "data": {
      "application/vnd.jupyter.widget-view+json": {
       "model_id": "131b306ba40e48019710ba0424819fb8",
       "version_major": 2,
       "version_minor": 0
      },
      "text/plain": [
       "Loading checkpoint shards:   0%|          | 0/2 [00:00<?, ?it/s]"
      ]
     },
     "metadata": {},
     "output_type": "display_data"
    },
    {
     "name": "stderr",
     "output_type": "stream",
     "text": [
      "Special tokens have been added in the vocabulary, make sure the associated word embeddings are fine-tuned or trained.\n"
     ]
    }
   ],
   "source": [
    "# load the model \n",
    "model = AutoModelForCausalLM.from_pretrained(\n",
    "    MODEL_NAME, device_map=\"auto\"\n",
    ")\n",
    "model = model.eval()\n",
    " \n",
    "tokenizer = AutoTokenizer.from_pretrained(MODEL_NAME)"
   ]
  },
  {
   "cell_type": "code",
   "execution_count": 5,
   "id": "f3829a72",
   "metadata": {},
   "outputs": [
    {
     "name": "stdout",
     "output_type": "stream",
     "text": [
      "Question: What is KBase?\n",
      "Answer: The Kansas Biological Survey's (KBS) Knowledge Base for Biodiversity Information, or \"kbase,\" was established in 2013 as a centralized repository of bioscience data and information. It serves researchers across the state by providing access to high-quality biology datasets from various sources through an easy user interface that allows users with different levels knowledge about bioinformatics tools can use them effectively without needing extensive training on these technologies; this makes it easier than ever before!\n"
     ]
    }
   ],
   "source": [
    "# model genration config\n",
    "generation_config = model.generation_config\n",
    "generation_config.temperature = 0\n",
    "generation_config.num_return_sequences = 1\n",
    "generation_config.max_new_tokens = 256\n",
    "generation_config.use_cache = False\n",
    "generation_config.repetition_penalty = 1.7\n",
    "generation_config.pad_token_id = tokenizer.eos_token_id\n",
    "generation_config.eos_token_id = tokenizer.eos_token_id\n",
    "\n",
    "# generate prompt\n",
    "prompt = \"\"\"\n",
    "Question: What is KBase?\n",
    "Answer:\n",
    "\"\"\".strip()\n",
    " \n",
    "input_ids = tokenizer(prompt, return_tensors=\"pt\").input_ids\n",
    "input_ids = input_ids.to(model.device)\n",
    "\n",
    "with torch.inference_mode():\n",
    "    outputs = model.generate(\n",
    "        input_ids=input_ids,\n",
    "        generation_config=generation_config,\n",
    "    )\n",
    "response = tokenizer.decode(outputs[0], skip_special_tokens=True)\n",
    "print(response)"
   ]
  },
  {
   "cell_type": "code",
   "execution_count": 6,
   "id": "9e5d9ec7",
   "metadata": {},
   "outputs": [
    {
     "name": "stdout",
     "output_type": "stream",
     "text": [
      "Question: How to use KBase narrative?\n",
      "Answer: Using the Narrate tool in Kbase is a straightforward process that involves several steps. Here's an overview of how you can create and publish your own scientific stories using this powerful platform; 1) Create Account - To start, go...\n"
     ]
    }
   ],
   "source": [
    "# model genration config\n",
    "generation_config = model.generation_config\n",
    "generation_config.temperature = 0\n",
    "generation_config.num_return_sequences = 1\n",
    "generation_config.max_new_tokens = 256\n",
    "generation_config.use_cache = False\n",
    "generation_config.repetition_penalty = 1.7\n",
    "generation_config.pad_token_id = tokenizer.eos_token_id\n",
    "generation_config.eos_token_id = tokenizer.eos_token_id\n",
    "\n",
    "# generate prompt\n",
    "prompt = \"\"\"\n",
    "Question: How to use KBase narrative?\n",
    "Answer:\n",
    "\"\"\".strip()\n",
    " \n",
    "input_ids = tokenizer(prompt, return_tensors=\"pt\").input_ids\n",
    "input_ids = input_ids.to(model.device)\n",
    "\n",
    "with torch.inference_mode():\n",
    "    outputs = model.generate(\n",
    "        input_ids=input_ids,\n",
    "        generation_config=generation_config,\n",
    "    )\n",
    "response = tokenizer.decode(outputs[0], skip_special_tokens=True)\n",
    "print(response)"
   ]
  },
  {
   "cell_type": "markdown",
   "id": "9f57efc5",
   "metadata": {},
   "source": [
    "## using huggingface pipeline"
   ]
  },
  {
   "cell_type": "code",
   "execution_count": 7,
   "id": "955eb20c",
   "metadata": {},
   "outputs": [],
   "source": [
    "generation_pipeline = pipeline(\n",
    "    model=model,\n",
    "    tokenizer=tokenizer,\n",
    "    return_full_text=True,\n",
    "    task=\"text-generation\",\n",
    "    generation_config=generation_config,\n",
    ")\n",
    " \n",
    "llm = HuggingFacePipeline(pipeline=generation_pipeline)"
   ]
  },
  {
   "cell_type": "code",
   "execution_count": 8,
   "id": "9e82da2a",
   "metadata": {},
   "outputs": [
    {
     "name": "stdout",
     "output_type": "stream",
     "text": [
      "CPU times: user 21.9 s, sys: 20.3 ms, total: 21.9 s\n",
      "Wall time: 21.8 s\n"
     ]
    },
    {
     "data": {
      "text/plain": [
       "'\\nK Base (short for Knowledgebase) was a web-based platform developed by the US Department of Energy’s Joint Genome Institute to support genomics research. It provided tools and resources that allowed scientists, engineers, educators, students etc., access data from various genetic databases like DNA sequences or gene expression profiles in one place so they could analyze it more efficiently than if each database were accessed separately through different websites/systems; this helped streamline workflow processes across many fields such as bioinformaticians working on projects related solely towards understanding how organisms function at their most basic level – all while providing an easy way out when things get too complicated!'"
      ]
     },
     "execution_count": 8,
     "metadata": {},
     "output_type": "execute_result"
    }
   ],
   "source": [
    "%%time\n",
    "llm(\"what is KBase?\")"
   ]
  },
  {
   "cell_type": "code",
   "execution_count": 9,
   "id": "2a6a6184",
   "metadata": {},
   "outputs": [
    {
     "name": "stdout",
     "output_type": "stream",
     "text": [
      "CPU times: user 5.6 s, sys: 80 µs, total: 5.6 s\n",
      "Wall time: 5.59 s\n"
     ]
    },
    {
     "data": {
      "text/plain": [
       "'\\nKbase Narrate is a tool that allows users to create and share interactive, multimedia stories. Here are some steps on how you can utilize the platform: 1) Create an account - To start using kbasenar...'"
      ]
     },
     "execution_count": 9,
     "metadata": {},
     "output_type": "execute_result"
    }
   ],
   "source": [
    "%%time\n",
    "llm(\"How to use KBase narrative?\")"
   ]
  },
  {
   "cell_type": "code",
   "execution_count": null,
   "id": "2b04ba85",
   "metadata": {},
   "outputs": [],
   "source": []
  }
 ],
 "metadata": {
  "kernelspec": {
   "display_name": "Python 3 (ipykernel)",
   "language": "python",
   "name": "python3"
  },
  "language_info": {
   "codemirror_mode": {
    "name": "ipython",
    "version": 3
   },
   "file_extension": ".py",
   "mimetype": "text/x-python",
   "name": "python",
   "nbconvert_exporter": "python",
   "pygments_lexer": "ipython3",
   "version": "3.11.0"
  }
 },
 "nbformat": 4,
 "nbformat_minor": 5
}
