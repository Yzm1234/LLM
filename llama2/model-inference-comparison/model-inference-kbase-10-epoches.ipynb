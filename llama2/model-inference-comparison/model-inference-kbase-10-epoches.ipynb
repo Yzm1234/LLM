{
 "cells": [
  {
   "cell_type": "code",
   "execution_count": 1,
   "id": "ded8d4c3",
   "metadata": {},
   "outputs": [],
   "source": [
    "import re\n",
    "import warnings\n",
    "from typing import List\n",
    " \n",
    "import torch\n",
    "from langchain import PromptTemplate\n",
    "from langchain.chains import ConversationChain\n",
    "from langchain.chains.conversation.memory import ConversationBufferWindowMemory\n",
    "from langchain.llms import HuggingFacePipeline\n",
    "from langchain.schema import BaseOutputParser\n",
    "from transformers import (\n",
    "    AutoModelForCausalLM,\n",
    "    AutoTokenizer,\n",
    "    StoppingCriteria,\n",
    "    StoppingCriteriaList,\n",
    "    pipeline,\n",
    ")\n",
    " \n",
    "warnings.filterwarnings(\"ignore\", category=UserWarning)"
   ]
  },
  {
   "cell_type": "markdown",
   "id": "e39f9d12",
   "metadata": {},
   "source": [
    "## Using transformer pipeline"
   ]
  },
  {
   "cell_type": "code",
   "execution_count": 2,
   "id": "ad9030d7",
   "metadata": {},
   "outputs": [
    {
     "name": "stderr",
     "output_type": "stream",
     "text": [
      "Special tokens have been added in the vocabulary, make sure the associated word embeddings are fine-tuned or trained.\n"
     ]
    },
    {
     "data": {
      "application/vnd.jupyter.widget-view+json": {
       "model_id": "4b7bfb137490435e8fd803fbba1c8900",
       "version_major": 2,
       "version_minor": 0
      },
      "text/plain": [
       "Loading checkpoint shards:   0%|          | 0/2 [00:00<?, ?it/s]"
      ]
     },
     "metadata": {},
     "output_type": "display_data"
    },
    {
     "name": "stdout",
     "output_type": "stream",
     "text": [
      "<s>[INST] what is KBase? [/INST]  KBase (Knowledge Base) is a web-based platform developed by the US Department of Energy (DOE) that provides a suite of tools and resources for the analysis, visualization, and sharing of large-scale biological data. It is designed to support the analysis of complex biological systems, such as microbial communities, plant genomes, and metabolic pathways, and to facilitate collaboration among researchers across different disciplines.\n",
      "\n",
      "KBase was originally developed as a collaboration between the DOE Joint Genome Institute (JGI) and the Lawrence Berkeley National Laboratory (LBNL), and has since expanded to include partnerships with other organizations, including the University of California, the University of Texas, and the University of Illinois.\n",
      "\n",
      "KBase provides a range of tools and resources for working with large-scale biological data, including:\n",
      "\n",
      "1\n",
      "CPU times: user 2h 23min 54s, sys: 1min 50s, total: 2h 25min 45s\n",
      "Wall time: 5min 33s\n"
     ]
    }
   ],
   "source": [
    "%%time\n",
    "# Generate Text\n",
    "query = \"what is KBase?\"\n",
    "MODEL_NAME = \"fine_tuned_llama2_model_kbase_all_10_epochs\"\n",
    "llama_tokenizer = AutoTokenizer.from_pretrained(MODEL_NAME, trust_remote_code=True)\n",
    "llama_tokenizer.pad_token = llama_tokenizer.eos_token\n",
    "llama_tokenizer.padding_side = \"right\"  # Fix for fp16\n",
    "text_gen = pipeline(task=\"text-generation\", model=MODEL_NAME, tokenizer=llama_tokenizer, max_length=200)\n",
    "output = text_gen(f\"<s>[INST] {query} [/INST]\")\n",
    "print(output[0]['generated_text'])"
   ]
  },
  {
   "cell_type": "code",
   "execution_count": 3,
   "id": "7e9eaff3",
   "metadata": {},
   "outputs": [
    {
     "name": "stdout",
     "output_type": "stream",
     "text": [
      "how to use KBase narrative?\n",
      "\n",
      "KBase Narrative is a tool for creating and sharing narratives in the context of scientific research. It allows users to create and edit narratives, as well as to share them with others. Here are some steps on how to use KBase Narrative:\n",
      "\n",
      "1. Sign up for a KBase account: To use KBase Narrative, you need to sign up for a KBase account. You can sign up for a free account on the KBase website.\n",
      "2. Log in to your KBase account: Once you have signed up for a KBase account, you can log in to your account using your email address and password.\n",
      "3. Access KBase Narrative: Once you are logged in to your KBase account, you can access KBase Narrative by clicking on the \"Narrative\" tab in the top navigation bar.\n",
      "4. Create a new narrative: To\n",
      "CPU times: user 2h 18min 20s, sys: 56.3 s, total: 2h 19min 16s\n",
      "Wall time: 4min 21s\n"
     ]
    }
   ],
   "source": [
    "%%time\n",
    "# Generate Text\n",
    "output = text_gen(\"how to use KBase narrative?\")\n",
    "print(output[0]['generated_text'])"
   ]
  },
  {
   "cell_type": "markdown",
   "id": "48f0ef7f",
   "metadata": {},
   "source": [
    "## Using tokenizer decoder"
   ]
  },
  {
   "cell_type": "code",
   "execution_count": 4,
   "id": "e27661a6",
   "metadata": {},
   "outputs": [
    {
     "data": {
      "application/vnd.jupyter.widget-view+json": {
       "model_id": "f3bb903f09fd4839b6ffd1f842f8a24c",
       "version_major": 2,
       "version_minor": 0
      },
      "text/plain": [
       "Loading checkpoint shards:   0%|          | 0/2 [00:00<?, ?it/s]"
      ]
     },
     "metadata": {},
     "output_type": "display_data"
    },
    {
     "name": "stderr",
     "output_type": "stream",
     "text": [
      "Special tokens have been added in the vocabulary, make sure the associated word embeddings are fine-tuned or trained.\n"
     ]
    }
   ],
   "source": [
    "# load the model\n",
    " \n",
    "model = AutoModelForCausalLM.from_pretrained(\n",
    "    MODEL_NAME, device_map=\"auto\"\n",
    ")\n",
    "model = model.eval()\n",
    " \n",
    "tokenizer = AutoTokenizer.from_pretrained(MODEL_NAME)"
   ]
  },
  {
   "cell_type": "code",
   "execution_count": 5,
   "id": "f3829a72",
   "metadata": {},
   "outputs": [
    {
     "name": "stdout",
     "output_type": "stream",
     "text": [
      "Question: What is KBase?\n",
      "Answer: The short answer to this question would be that \"Kbase\" stands for the Kansas Bioenergy Center. However, based on further analysis of search results and context clues provided in related articles or documents about bioinformatics tools like RAST (Rapid Annotation using Subsystem Technology), PHASE-UK () etc., it appears there may also exist a different entity called 'KBase' which could potentially serve as an abbreviation/acronym representing another organization focused primarily around life sciences research & development activities involving genomic data management platforms designed specifically catering towards users working within academic institutions across various disciplines such genetically modified organisms(GMOs). Without additional information from reliable sources confirmation cannot definitively determine whether one particular instance refers exclusively toward either project mentioned earlier without proper clarification regarding specific scope boundaries involved; therefore I highly recommend consulting relevant resources directly associated with intended target before making any assumptions concerning their identity!\n"
     ]
    }
   ],
   "source": [
    "# model genration config\n",
    "generation_config = model.generation_config\n",
    "generation_config.temperature = 0\n",
    "generation_config.num_return_sequences = 1\n",
    "generation_config.max_new_tokens = 256\n",
    "generation_config.use_cache = False\n",
    "generation_config.repetition_penalty = 1.7\n",
    "generation_config.pad_token_id = tokenizer.eos_token_id\n",
    "generation_config.eos_token_id = tokenizer.eos_token_id\n",
    "\n",
    "# generate prompt\n",
    "prompt = \"\"\"\n",
    "Question: What is KBase?\n",
    "Answer:\n",
    "\"\"\".strip()\n",
    " \n",
    "input_ids = tokenizer(prompt, return_tensors=\"pt\").input_ids\n",
    "input_ids = input_ids.to(model.device)\n",
    "\n",
    "with torch.inference_mode():\n",
    "    outputs = model.generate(\n",
    "        input_ids=input_ids,\n",
    "        generation_config=generation_config,\n",
    "    )\n",
    "response = tokenizer.decode(outputs[0], skip_special_tokens=True)\n",
    "print(response)"
   ]
  },
  {
   "cell_type": "code",
   "execution_count": 6,
   "id": "9e5d9ec7",
   "metadata": {},
   "outputs": [
    {
     "name": "stdout",
     "output_type": "stream",
     "text": [
      "Question: How to use KBase narrative?\n",
      "Answer: The Narratives feature in the Knowledge Base (Kbase) allows users to create and share stories about their data. Here are some steps on how you can utilize this functionality within your organization or research group for effective communication of scientific findings, methods used during experiments/research projects as well as any other relevant information related directly back into experimental design itself! To get started with using a specific example from our previous discussion regarding plant genomics analysis pipelines; let's walk through these general guidelines together so that everyone involved understand what needs doing when creating those informational tales.: 1- Logging Into Your Account - Before proceeding further it is essential first logins have been completed successfully otherwise certain features may remain unavailable until authentication has taken place correctly . Once logged , click \"My Workspace\" located at top right corner above dashboard menu items while viewable only after successful login attempt made earlier than entering additional pages containing more detailed instructions along side visual representations associated wiyh each step inside process flow chart format designed specifically keeping user experience & ease Of understanding front mind set throughout entire journey exploring capabilities offered by powerful platform provided exclusively via web browser interface accessible across various devices connected online world wide without need worry bout compatibility issues between different operating\n"
     ]
    }
   ],
   "source": [
    "# model genration config\n",
    "generation_config = model.generation_config\n",
    "generation_config.temperature = 0\n",
    "generation_config.num_return_sequences = 1\n",
    "generation_config.max_new_tokens = 256\n",
    "generation_config.use_cache = False\n",
    "generation_config.repetition_penalty = 1.7\n",
    "generation_config.pad_token_id = tokenizer.eos_token_id\n",
    "generation_config.eos_token_id = tokenizer.eos_token_id\n",
    "\n",
    "# generate prompt\n",
    "prompt = \"\"\"\n",
    "Question: How to use KBase narrative?\n",
    "Answer:\n",
    "\"\"\".strip()\n",
    " \n",
    "input_ids = tokenizer(prompt, return_tensors=\"pt\").input_ids\n",
    "input_ids = input_ids.to(model.device)\n",
    "with torch.inference_mode():\n",
    "    outputs = model.generate(\n",
    "        input_ids=input_ids,\n",
    "        generation_config=generation_config,\n",
    "    )\n",
    "response = tokenizer.decode(outputs[0], skip_special_tokens=True)\n",
    "print(response)"
   ]
  },
  {
   "cell_type": "markdown",
   "id": "adf4b4a1",
   "metadata": {},
   "source": [
    "## using huggingface pipeline"
   ]
  },
  {
   "cell_type": "code",
   "execution_count": 7,
   "id": "955eb20c",
   "metadata": {},
   "outputs": [],
   "source": [
    "generation_pipeline = pipeline(\n",
    "    model=model,\n",
    "    tokenizer=tokenizer,\n",
    "    return_full_text=True,\n",
    "    task=\"text-generation\",\n",
    "    generation_config=generation_config,\n",
    ")\n",
    " \n",
    "llm = HuggingFacePipeline(pipeline=generation_pipeline)"
   ]
  },
  {
   "cell_type": "code",
   "execution_count": 8,
   "id": "9e82da2a",
   "metadata": {},
   "outputs": [
    {
     "name": "stdout",
     "output_type": "stream",
     "text": [
      "CPU times: user 19 s, sys: 19.5 ms, total: 19 s\n",
      "Wall time: 19 s\n"
     ]
    },
    {
     "data": {
      "text/plain": [
       "'\\nKbase (formerly known as the Kansas Bioenergy Center) was established in 2013 with a mission to accelerate bioeconomy development through research, education and commercialization. It serves various stakeholders including farmers/growers of feedstocks for biorefineries; companies involved directly or indirectly into production & distribution chain related activities such as equipment suppliers etcetera all while promoting sustainability throughout these processes by utilizing renewable resources like agricultural waste products instead relying solelessly on fossil fuels sources which contribute significantly towards greenhouse gas emissions contributing climate change problems worldwide today!'"
      ]
     },
     "execution_count": 8,
     "metadata": {},
     "output_type": "execute_result"
    }
   ],
   "source": [
    "%%time\n",
    "llm(\"what is KBase?\")"
   ]
  },
  {
   "cell_type": "code",
   "execution_count": 9,
   "id": "2a6a6184",
   "metadata": {},
   "outputs": [
    {
     "name": "stdout",
     "output_type": "stream",
     "text": [
      "CPU times: user 4.54 s, sys: 7.74 ms, total: 4.55 s\n",
      "Wall time: 4.54 s\n"
     ]
    },
    {
     "data": {
      "text/plain": [
       "'\\nHow do I create a new sample in the Sample Manager of Kbase and link it with my existing samples or projects within an organization if there is no direct way for me as individual user/owner, but only through our designated \"sample manager\"?'"
      ]
     },
     "execution_count": 9,
     "metadata": {},
     "output_type": "execute_result"
    }
   ],
   "source": [
    "%%time\n",
    "llm(\"How to use KBase narrative?\")"
   ]
  },
  {
   "cell_type": "code",
   "execution_count": null,
   "id": "2b04ba85",
   "metadata": {},
   "outputs": [],
   "source": []
  }
 ],
 "metadata": {
  "kernelspec": {
   "display_name": "Python 3 (ipykernel)",
   "language": "python",
   "name": "python3"
  },
  "language_info": {
   "codemirror_mode": {
    "name": "ipython",
    "version": 3
   },
   "file_extension": ".py",
   "mimetype": "text/x-python",
   "name": "python",
   "nbconvert_exporter": "python",
   "pygments_lexer": "ipython3",
   "version": "3.11.0"
  }
 },
 "nbformat": 4,
 "nbformat_minor": 5
}
