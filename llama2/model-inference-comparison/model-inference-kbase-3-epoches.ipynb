{
 "cells": [
  {
   "cell_type": "code",
   "execution_count": 1,
   "id": "ded8d4c3",
   "metadata": {},
   "outputs": [],
   "source": [
    "import re\n",
    "import warnings\n",
    "from typing import List\n",
    " \n",
    "import torch\n",
    "from langchain import PromptTemplate\n",
    "from langchain.chains import ConversationChain\n",
    "from langchain.chains.conversation.memory import ConversationBufferWindowMemory\n",
    "from langchain.llms import HuggingFacePipeline\n",
    "from langchain.schema import BaseOutputParser\n",
    "from transformers import (\n",
    "    AutoModelForCausalLM,\n",
    "    AutoTokenizer,\n",
    "    StoppingCriteria,\n",
    "    StoppingCriteriaList,\n",
    "    pipeline,\n",
    ")\n",
    " \n",
    "warnings.filterwarnings(\"ignore\", category=UserWarning)"
   ]
  },
  {
   "cell_type": "markdown",
   "id": "e39f9d12",
   "metadata": {},
   "source": [
    "## Using transformer pipeline"
   ]
  },
  {
   "cell_type": "code",
   "execution_count": 2,
   "id": "ad9030d7",
   "metadata": {},
   "outputs": [
    {
     "name": "stderr",
     "output_type": "stream",
     "text": [
      "Special tokens have been added in the vocabulary, make sure the associated word embeddings are fine-tuned or trained.\n"
     ]
    },
    {
     "data": {
      "application/vnd.jupyter.widget-view+json": {
       "model_id": "98492caf74a04534878440db4892779f",
       "version_major": 2,
       "version_minor": 0
      },
      "text/plain": [
       "Loading checkpoint shards:   0%|          | 0/2 [00:00<?, ?it/s]"
      ]
     },
     "metadata": {},
     "output_type": "display_data"
    },
    {
     "name": "stdout",
     "output_type": "stream",
     "text": [
      "<s>[INST] what is KBase? [/INST]  KBase (Knowledge Base) is a web-based platform developed by the US Department of Energy (DOE) that provides a suite of tools and resources for the analysis, visualization, and sharing of large-scale biological data. It is designed to support the analysis of complex biological systems, such as microbial communities, plant genomes, and metabolic pathways, and to facilitate collaboration among researchers across different disciplines.\n",
      "\n",
      "KBase was originally developed as a collaboration between the DOE Joint Genome Institute (JGI) and the Lawrence Berkeley National Laboratory (LBNL), and has since expanded to include partnerships with other organizations, including the University of California, the University of Texas, and the University of Illinois.\n",
      "\n",
      "KBase provides a range of tools and resources for working with large-scale biological data, including:\n",
      "\n",
      "1\n",
      "CPU times: user 2h 18min 27s, sys: 2min 54s, total: 2h 21min 21s\n",
      "Wall time: 4min 40s\n"
     ]
    }
   ],
   "source": [
    "%%time\n",
    "# Generate Text\n",
    "query = \"what is KBase?\"\n",
    "llama_tokenizer = AutoTokenizer.from_pretrained(\"fine_tuned_llama2_model_kbase_3_epochs\", trust_remote_code=True)\n",
    "llama_tokenizer.pad_token = llama_tokenizer.eos_token\n",
    "llama_tokenizer.padding_side = \"right\"  # Fix for fp16\n",
    "text_gen = pipeline(task=\"text-generation\", model=\"fine_tuned_llama2_model_kbase_3_epochs\", tokenizer=llama_tokenizer, max_length=200)\n",
    "output = text_gen(f\"<s>[INST] {query} [/INST]\")\n",
    "print(output[0]['generated_text'])"
   ]
  },
  {
   "cell_type": "code",
   "execution_count": 3,
   "id": "7e9eaff3",
   "metadata": {},
   "outputs": [
    {
     "name": "stdout",
     "output_type": "stream",
     "text": [
      "how to use KBase narrative?\n",
      "\n",
      "KBase Narrative is a tool for creating and sharing narratives in the context of scientific research. It allows users to create and edit narratives, as well as to share them with others. Here are some steps on how to use KBase Narrative:\n",
      "\n",
      "1. Sign up for a KBase account: To use KBase Narrative, you need to sign up for a KBase account. You can sign up for a free account on the KBase website.\n",
      "2. Log in to your KBase account: Once you have signed up for a KBase account, you can log in to your account using your email address and password.\n",
      "3. Access KBase Narrative: Once you are logged in to your KBase account, you can access KBase Narrative by clicking on the \"Narrative\" tab in the top navigation bar.\n",
      "4. Create a new narrative: To\n",
      "CPU times: user 2h 17min 17s, sys: 30.5 s, total: 2h 17min 48s\n",
      "Wall time: 4min 8s\n"
     ]
    }
   ],
   "source": [
    "%%time\n",
    "# Generate Text\n",
    "output = text_gen(\"how to use KBase narrative?\")\n",
    "print(output[0]['generated_text'])"
   ]
  },
  {
   "cell_type": "markdown",
   "id": "48f0ef7f",
   "metadata": {},
   "source": [
    "## Using tokenizer decoder"
   ]
  },
  {
   "cell_type": "code",
   "execution_count": 4,
   "id": "e27661a6",
   "metadata": {},
   "outputs": [
    {
     "data": {
      "application/vnd.jupyter.widget-view+json": {
       "model_id": "6fe194ccecef47a49d119b17e4ee938c",
       "version_major": 2,
       "version_minor": 0
      },
      "text/plain": [
       "Loading checkpoint shards:   0%|          | 0/2 [00:00<?, ?it/s]"
      ]
     },
     "metadata": {},
     "output_type": "display_data"
    },
    {
     "name": "stderr",
     "output_type": "stream",
     "text": [
      "Special tokens have been added in the vocabulary, make sure the associated word embeddings are fine-tuned or trained.\n"
     ]
    }
   ],
   "source": [
    "# load the model\n",
    "MODEL_NAME = \"fine_tuned_llama2_model_kbase_3_epochs\"\n",
    " \n",
    "model = AutoModelForCausalLM.from_pretrained(\n",
    "    MODEL_NAME, device_map=\"auto\"\n",
    ")\n",
    "model = model.eval()\n",
    " \n",
    "tokenizer = AutoTokenizer.from_pretrained(MODEL_NAME)"
   ]
  },
  {
   "cell_type": "code",
   "execution_count": 5,
   "id": "f3829a72",
   "metadata": {},
   "outputs": [
    {
     "name": "stdout",
     "output_type": "stream",
     "text": [
      "Question: What is KBase?\n",
      "Answer: The full name of the platform mentioned in this question, which stands for \"Knowledge Base,\" refers to a publicly available online resource that provides tools and services related specifically to bioinformatics. It was developed by JGI (Joint Genome Institute) with funding from DOE Office Of Science Bioenergy Technologies office as part of an effort called Systems Biology Knowledgebase or SBKB project aimed at integrating data across different organisms into one comprehensive database accessible through web-based interfaces such as RAILS/KEGG Interaction Networks Viewer Applications using RESTful APIs provided within their API portal section on GitHub under open source license terms allowing users free access without any restrictions including commercial use rights; however please note there may be some limitations depending upon how much storage space you need compared against what's offered here before deciding whether it suits your needs best!\n"
     ]
    }
   ],
   "source": [
    "# model genration config\n",
    "generation_config = model.generation_config\n",
    "generation_config.temperature = 0\n",
    "generation_config.num_return_sequences = 1\n",
    "generation_config.max_new_tokens = 256\n",
    "generation_config.use_cache = False\n",
    "generation_config.repetition_penalty = 1.7\n",
    "generation_config.pad_token_id = tokenizer.eos_token_id\n",
    "generation_config.eos_token_id = tokenizer.eos_token_id\n",
    "\n",
    "# generate prompt\n",
    "prompt = \"\"\"\n",
    "Question: What is KBase?\n",
    "Answer:\n",
    "\"\"\".strip()\n",
    " \n",
    "input_ids = tokenizer(prompt, return_tensors=\"pt\").input_ids\n",
    "input_ids = input_ids.to(model.device)\n",
    "\n",
    "with torch.inference_mode():\n",
    "    outputs = model.generate(\n",
    "        input_ids=input_ids,\n",
    "        generation_config=generation_config,\n",
    "    )\n",
    "response = tokenizer.decode(outputs[0], skip_special_tokens=True)\n",
    "print(response)"
   ]
  },
  {
   "cell_type": "code",
   "execution_count": 6,
   "id": "9e5d9ec7",
   "metadata": {},
   "outputs": [
    {
     "name": "stdout",
     "output_type": "stream",
     "text": [
      "Question: How to use KBase narrative?\n",
      "Answer: The Narratives in the Knowledge Base (Kbase) are a way of organizing and presenting information about genes, proteins or other biological entities. They provide an overview by summarising key details such as gene function/description; protein structure data from PDB files with links for more detailed viewings if desired! Additionally they include relevant literature references that can be accessed through hyperlinks at no cost whatsoever – all within one convenient location so you don't have search multiple sources separately before finding exactly where this particular piece fits into your research project’s puzzle pieces perfectly fitting together like clockwork 🕰️✨\n"
     ]
    }
   ],
   "source": [
    "# model genration config\n",
    "generation_config = model.generation_config\n",
    "generation_config.temperature = 0\n",
    "generation_config.num_return_sequences = 1\n",
    "generation_config.max_new_tokens = 256\n",
    "generation_config.use_cache = False\n",
    "generation_config.repetition_penalty = 1.7\n",
    "generation_config.pad_token_id = tokenizer.eos_token_id\n",
    "generation_config.eos_token_id = tokenizer.eos_token_id\n",
    "\n",
    "# generate prompt\n",
    "prompt = \"\"\"\n",
    "Question: How to use KBase narrative?\n",
    "Answer:\n",
    "\"\"\".strip()\n",
    " \n",
    "input_ids = tokenizer(prompt, return_tensors=\"pt\").input_ids\n",
    "input_ids = input_ids.to(model.device)\n",
    "with torch.inference_mode():\n",
    "    outputs = model.generate(\n",
    "        input_ids=input_ids,\n",
    "        generation_config=generation_config,\n",
    "    )\n",
    "response = tokenizer.decode(outputs[0], skip_special_tokens=True)\n",
    "print(response)"
   ]
  },
  {
   "cell_type": "markdown",
   "id": "0d99391b",
   "metadata": {},
   "source": [
    "## using huggingface pipeline"
   ]
  },
  {
   "cell_type": "code",
   "execution_count": 7,
   "id": "955eb20c",
   "metadata": {},
   "outputs": [],
   "source": [
    "generation_pipeline = pipeline(\n",
    "    model=model,\n",
    "    tokenizer=tokenizer,\n",
    "    return_full_text=True,\n",
    "    task=\"text-generation\",\n",
    "    generation_config=generation_config,\n",
    ")\n",
    " \n",
    "llm = HuggingFacePipeline(pipeline=generation_pipeline)"
   ]
  },
  {
   "cell_type": "code",
   "execution_count": 8,
   "id": "9e82da2a",
   "metadata": {},
   "outputs": [
    {
     "name": "stdout",
     "output_type": "stream",
     "text": [
      "CPU times: user 51.9 s, sys: 83.5 ms, total: 51.9 s\n",
      "Wall time: 51.9 s\n"
     ]
    },
    {
     "data": {
      "text/plain": [
       "'\\nKbase (formerly known as the Kansas Bioenergy and Bioproducts Institute) was established in 2013 with a mission to develop new technologies for biofuels, biomaterial production from agricultural waste streams. It has since expanded its focus beyond these areas of research into other aspects related or adjacent thereto such an environmental monitoring systems using IoT sensors; biodata analysis tools that can be used by scientists across various disciplines like genetics/genome engineering when working on projects involving microbes involved either directly within their own ecosystem environment outside thereof but also indirect ways through interactions between different organisms themselves! Additionally they provide access points where users may upload data sets collected during experiments conducted at sites around world so long hey adhere strict protocol guidelins set forth kbsi staff members before sharing any information externally via web portals provided exclusively here inside this virtual space called \"kbaseline\". This allows us not only share knowledge gained thus far regarding topics mentioned above however it enables collaboration among experts globally without having physical presence required anywhere near Lawrence City Hall office building located smack dab right down town square area...so yeah pretty cool stuff indeed!\"'"
      ]
     },
     "execution_count": 8,
     "metadata": {},
     "output_type": "execute_result"
    }
   ],
   "source": [
    "%%time\n",
    "llm(\"what is KBase?\")"
   ]
  },
  {
   "cell_type": "code",
   "execution_count": 9,
   "id": "2a6a6184",
   "metadata": {},
   "outputs": [
    {
     "name": "stdout",
     "output_type": "stream",
     "text": [
      "CPU times: user 54.5 s, sys: 83.6 ms, total: 54.5 s\n",
      "Wall time: 54.5 s\n"
     ]
    },
    {
     "data": {
      "text/plain": [
       "'\\nKbase Narratives are a new feature in the latest version of their platform. They allow users, such as researchers and scientists working on projects related to bioinformatics or computational biology tasks like genome analysis (either whole-genomes/metagenoms) for example from sequencing reads generated by Illumina HiSeq 2500 run with paired end library preparation protocols using TruFaSTER chemistry), metabolic modeling simulations based off reactions extracted via MetaCyc database integration into Biochemical Network Model Reconstruction workflow steps within an existing project inside your account at kbseeker dot com! To access this tool go through these easy step: Step1 - Log Into Your Account At https://kbsnavigator/.com And Click On \"My Project\" Tab located near top right corner next logout button; then select one already created if none exist otherwise create brand spanky fresh ones following prompt given below until all necessary details have been filled out completely before clicking submit buttons found further down page where it says \\'Create New\\' under heading labeled “Navigate” just above list containing various options available when selecting type(types). Once done creating yours truly'"
      ]
     },
     "execution_count": 9,
     "metadata": {},
     "output_type": "execute_result"
    }
   ],
   "source": [
    "%%time\n",
    "llm(\"How to use KBase narrative?\")"
   ]
  },
  {
   "cell_type": "code",
   "execution_count": null,
   "id": "2b04ba85",
   "metadata": {},
   "outputs": [],
   "source": []
  }
 ],
 "metadata": {
  "kernelspec": {
   "display_name": "Python 3 (ipykernel)",
   "language": "python",
   "name": "python3"
  },
  "language_info": {
   "codemirror_mode": {
    "name": "ipython",
    "version": 3
   },
   "file_extension": ".py",
   "mimetype": "text/x-python",
   "name": "python",
   "nbconvert_exporter": "python",
   "pygments_lexer": "ipython3",
   "version": "3.11.0"
  }
 },
 "nbformat": 4,
 "nbformat_minor": 5
}
