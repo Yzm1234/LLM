{
 "cells": [
  {
   "cell_type": "code",
   "execution_count": 1,
   "id": "5772b96c",
   "metadata": {},
   "outputs": [],
   "source": [
    "import re\n",
    "import warnings\n",
    "from typing import List\n",
    " \n",
    "import torch\n",
    "from langchain import PromptTemplate\n",
    "from langchain.chains import ConversationChain\n",
    "from langchain.chains.conversation.memory import ConversationBufferWindowMemory\n",
    "from langchain.llms import HuggingFacePipeline\n",
    "from langchain.schema import BaseOutputParser\n",
    "from transformers import (\n",
    "    AutoModelForCausalLM,\n",
    "    AutoTokenizer,\n",
    "    StoppingCriteria,\n",
    "    StoppingCriteriaList,\n",
    "    pipeline,\n",
    ")\n",
    " \n",
    "warnings.filterwarnings(\"ignore\", category=UserWarning)"
   ]
  },
  {
   "cell_type": "code",
   "execution_count": 2,
   "id": "1bd37a30",
   "metadata": {},
   "outputs": [
    {
     "data": {
      "application/vnd.jupyter.widget-view+json": {
       "model_id": "daf155f8d3424186a3aa2a854897b85f",
       "version_major": 2,
       "version_minor": 0
      },
      "text/plain": [
       "Loading checkpoint shards:   0%|          | 0/2 [00:00<?, ?it/s]"
      ]
     },
     "metadata": {},
     "output_type": "display_data"
    },
    {
     "name": "stderr",
     "output_type": "stream",
     "text": [
      "Special tokens have been added in the vocabulary, make sure the associated word embeddings are fine-tuned or trained.\n"
     ]
    }
   ],
   "source": [
    "MODEL_NAME = \"NousResearch/Llama-2-7b-chat-hf\"\n",
    "model = AutoModelForCausalLM.from_pretrained(\n",
    "    MODEL_NAME, device_map=\"auto\"\n",
    ")\n",
    "model = model.eval()\n",
    "tokenizer = AutoTokenizer.from_pretrained(MODEL_NAME)\n",
    "# model genration config\n",
    "generation_config = model.generation_config\n",
    "generation_config.temperature = 0\n",
    "generation_config.num_return_sequences = 1\n",
    "generation_config.max_new_tokens = 200\n",
    "generation_config.use_cache = False\n",
    "generation_config.repetition_penalty = 1\n",
    "generation_config.pad_token_id = tokenizer.eos_token_id\n",
    "generation_config.eos_token_id = tokenizer.eos_token_id\n",
    "\n",
    "generation_pipeline = pipeline(\n",
    "    model=model,\n",
    "    tokenizer=tokenizer,\n",
    "    return_full_text=True,\n",
    "    task=\"text-generation\",\n",
    "    generation_config=generation_config,\n",
    ")\n",
    " \n",
    "llm = HuggingFacePipeline(pipeline=generation_pipeline)"
   ]
  },
  {
   "cell_type": "code",
   "execution_count": 3,
   "id": "e49de3f0",
   "metadata": {},
   "outputs": [
    {
     "name": "stdout",
     "output_type": "stream",
     "text": [
      "\n",
      "\n",
      "KBase is a web-based platform that provides a suite of tools and resources for working with genomic and metabolomic data. Here are some of the things you can do with KBase:\n",
      "\n",
      "1. Upload and store your data: KBase allows you to upload and store your genomic and metabolomic data, including raw sequencing data, assembled genomes, and metabolomic datasets.\n",
      "2. Analyze and visualize your data: KBase provides a range of tools for analyzing and visualizing your data, including tools for quality control, assembly, and visualization.\n",
      "3. Share and collaborate: KBase allows you to share your data and collaborate with other researchers, including those in your institution or around the world.\n",
      "4. Access to a wide range of tools and resources: KBase provides access to a wide range of tools and resources, including bioinformatic tools, databases, and software.\n",
      "\n",
      "CPU times: user 25.6 s, sys: 693 ms, total: 26.3 s\n",
      "Wall time: 26.1 s\n"
     ]
    }
   ],
   "source": [
    "%%time\n",
    "print(llm(\"What can I do with KBase?\"))"
   ]
  },
  {
   "cell_type": "code",
   "execution_count": 4,
   "id": "71db4316",
   "metadata": {},
   "outputs": [
    {
     "name": "stdout",
     "output_type": "stream",
     "text": [
      "\n",
      "\n",
      "KBase is a web-based platform that provides a suite of tools and resources for the analysis and visualization of genomic data. It is designed to support researchers in the fields of genomics, bioinformatics, and computational biology, and is particularly useful for analyzing large-scale genomic data sets.\n",
      "\n",
      "KBase was developed by the US Department of Energy (DOE) Joint Genome Institute (JGI) and is maintained by the DOE Office of Science. It is free to use and is accessible to researchers around the world.\n",
      "\n",
      "KBase provides a range of tools and resources for analyzing genomic data, including:\n",
      "\n",
      "1. Genome assembly and annotation: KBase provides tools for assembling and annotating genomes, including the ability to align sequencing reads to a reference genome and identify genes and other features.\n",
      "2. Transcriptome analysis: KBase offers tools for analyzing R\n",
      "CPU times: user 24.3 s, sys: 69.8 ms, total: 24.3 s\n",
      "Wall time: 24.3 s\n"
     ]
    }
   ],
   "source": [
    "%%time\n",
    "print(llm(\"what is KBase?\"))"
   ]
  },
  {
   "cell_type": "code",
   "execution_count": 5,
   "id": "9e199389",
   "metadata": {},
   "outputs": [
    {
     "name": "stdout",
     "output_type": "stream",
     "text": [
      "\n",
      "\n",
      "KBase is designed to be accessible and usable on a wide range of devices and browsers. Here are the browsers that are supported in KBase:\n",
      "\n",
      "* Google Chrome (latest version)\n",
      "* Mozilla Firefox (latest version)\n",
      "* Microsoft Edge (latest version)\n",
      "* Apple Safari (latest version)\n",
      "* Internet Explorer (version 11 or later)\n",
      "\n",
      "Note that KBase may not function optimally on older or outdated browsers, so we recommend using one of the supported browsers for the best experience.\n",
      "\n",
      "Also, please note that some features of KBase may not be compatible with all browsers, especially those that are older or less popular. If you encounter any issues while using KBase, please let us know so we can investigate and make any necessary adjustments.\n",
      "CPU times: user 21.4 s, sys: 64.6 ms, total: 21.5 s\n",
      "Wall time: 21.5 s\n"
     ]
    }
   ],
   "source": [
    "%%time\n",
    "print(llm(\"What browsers are supported in KBase?\"))"
   ]
  },
  {
   "cell_type": "code",
   "execution_count": 6,
   "id": "71059c4c",
   "metadata": {},
   "outputs": [
    {
     "name": "stdout",
     "output_type": "stream",
     "text": [
      "\n",
      "\n",
      "KBase Narrative is a tool for creating and sharing computational narratives, which are stories that describe the process and outcome of a computational experiment. Here is a step-by-step guide on how to use KBase Narrative:\n",
      "\n",
      "1. Sign up for a KBase account: To use KBase Narrative, you need to sign up for a KBase account. You can sign up for a free account on the KBase website.\n",
      "2. Log in to your KBase account: Once you have signed up for a KBase account, log in to your account using your email address and password.\n",
      "3. Create a new narrative: To create a new narrative, click on the \"New Narrative\" button on the KBase homepage. This will take you to the narrative creation page.\n",
      "4. Add steps to your narrative: A narrative is composed of a series of steps that describe the process of the\n",
      "CPU times: user 30 s, sys: 91.9 ms, total: 30.1 s\n",
      "Wall time: 30 s\n"
     ]
    }
   ],
   "source": [
    "%%time\n",
    "print(llm(\"How to use KBase Narrative?\"))"
   ]
  },
  {
   "cell_type": "code",
   "execution_count": 7,
   "id": "a4ea94cc",
   "metadata": {},
   "outputs": [
    {
     "name": "stdout",
     "output_type": "stream",
     "text": [
      "\n",
      "\n",
      "Answer: The recommended method for signing in to KBase is to use the KBase Single Sign-On (SSO) service. This service allows you to access KBase and other participating services without having to enter your login credentials for each service separately. Instead, you can use your existing SSO credentials to access KBase and other participating services.\n",
      "\n",
      "To use KBase SSO, you will need to have an account with a participating organization, such as a university or government agency, that has a KBase SSO agreement in place. Once you have an account with a participating organization, you can use the KBase SSO service to access KBase and other participating services without having to enter your login credentials.\n",
      "\n",
      "Here are the steps to sign in to KBase using SSO:\n",
      "\n",
      "1. Go to the KBase login page and click on the \"SSO\" button.\n",
      "2. Enter your SSO username and password\n",
      "CPU times: user 25.6 s, sys: 65.8 ms, total: 25.6 s\n",
      "Wall time: 25.6 s\n"
     ]
    }
   ],
   "source": [
    "%%time\n",
    "print(llm(\"What is the recommended method for signing in to KBase??\"))"
   ]
  },
  {
   "cell_type": "code",
   "execution_count": 8,
   "id": "05827c06",
   "metadata": {},
   "outputs": [
    {
     "name": "stdout",
     "output_type": "stream",
     "text": [
      "\n",
      "\n",
      "KBase provides a password reset feature to help users regain access to their accounts if they forget their passwords. Here's how to reset your password in KBase:\n",
      "\n",
      "1. Go to the KBase login page and click on the \"Forgot Password\" link located at the bottom of the page.\n",
      "2. Enter your email address or username associated with your KBase account.\n",
      "3. Click on the \"Send Password Reset Link\" button.\n",
      "4. Check your email inbox for an email from KBase with a password reset link. Click on the link to reset your password.\n",
      "5. Follow the instructions provided in the email to create a new password for your KBase account.\n",
      "\n",
      "Alternatively, you can also reset your password by logging in to your KBase account and clicking on the \"Forgot Password\" link located on the login page. Follow the instructions provided in the link to reset your password.\n",
      "\n",
      "It'\n",
      "CPU times: user 25.6 s, sys: 59.3 ms, total: 25.6 s\n",
      "Wall time: 25.6 s\n"
     ]
    }
   ],
   "source": [
    "%%time\n",
    "print(llm(\"When I use KBase, how to reset my password?\"))"
   ]
  },
  {
   "cell_type": "code",
   "execution_count": 9,
   "id": "08caba2e",
   "metadata": {},
   "outputs": [
    {
     "name": "stdout",
     "output_type": "stream",
     "text": [
      "\n",
      "\n",
      "The KBase Services Status page can be found at:\n",
      "\n",
      "* <https://kbase.ucsc.edu/status>\n",
      "\n",
      "Alternatively, you can check the status of KBase services using the following methods:\n",
      "\n",
      "* Check the KBase Twitter account for updates on service status: <https://twitter.com/kbase>\n",
      "* Subscribe to the KBase status email list to receive notifications of service outages or maintenance: <https://kbase.ucsc.edu/status/email-list>\n",
      "* Check the KBase status page for detailed information on the status of each service: <https://kbase.ucsc.edu/status>\n",
      "\n",
      "Note: The KBase Services Status page is updated regularly, but it may not always be immediately aware of any issues with the services. If you are experiencing problems with a KBase service, you can also contact the KBase Support Team for assistance.\n",
      "CPU times: user 24.7 s, sys: 61 ms, total: 24.8 s\n",
      "Wall time: 24.7 s\n"
     ]
    }
   ],
   "source": [
    "%%time\n",
    "print(llm(\"Where can I find the KBase Services Status page?\"))"
   ]
  },
  {
   "cell_type": "code",
   "execution_count": 10,
   "id": "106901ae",
   "metadata": {},
   "outputs": [
    {
     "name": "stdout",
     "output_type": "stream",
     "text": [
      "\n",
      "\n",
      "KBase is a cloud-based bioinformatics platform that provides a wide range of tools and resources for analyzing and interpreting large-scale biological data. Some of the types of analysis that can be performed with KBase include:\n",
      "\n",
      "1. Genome assembly and annotation: KBase provides tools for assembling and annotating genomes, including both prokaryotic and eukaryotic genomes.\n",
      "2. Transcriptome analysis: KBase offers tools for analyzing RNA-seq data, including gene expression analysis, isoform detection, and splicing event detection.\n",
      "3. Protein structure prediction: KBase provides tools for predicting the three-dimensional structure of proteins, including both homology modeling and de novo modeling.\n",
      "4. Systems biology modeling: KBase offers tools for building and simulating large-scale biological models, including metabolic models, gene regulatory networks, and\n",
      "CPU times: user 33.6 s, sys: 81.9 ms, total: 33.7 s\n",
      "Wall time: 33.6 s\n"
     ]
    }
   ],
   "source": [
    "%%time\n",
    "print(llm(\"What analysis I can do with KBase?\"))"
   ]
  },
  {
   "cell_type": "code",
   "execution_count": null,
   "id": "567c2bf2",
   "metadata": {},
   "outputs": [],
   "source": []
  }
 ],
 "metadata": {
  "kernelspec": {
   "display_name": "Python 3 (ipykernel)",
   "language": "python",
   "name": "python3"
  },
  "language_info": {
   "codemirror_mode": {
    "name": "ipython",
    "version": 3
   },
   "file_extension": ".py",
   "mimetype": "text/x-python",
   "name": "python",
   "nbconvert_exporter": "python",
   "pygments_lexer": "ipython3",
   "version": "3.11.5"
  }
 },
 "nbformat": 4,
 "nbformat_minor": 5
}
