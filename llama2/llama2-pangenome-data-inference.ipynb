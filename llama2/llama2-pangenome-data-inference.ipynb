{
 "cells": [
  {
   "cell_type": "code",
   "execution_count": 15,
   "id": "5772b96c",
   "metadata": {},
   "outputs": [],
   "source": [
    "import re\n",
    "import warnings\n",
    "from typing import List\n",
    " \n",
    "import torch\n",
    "from langchain import PromptTemplate\n",
    "from langchain.chains import ConversationChain\n",
    "from langchain.chains.conversation.memory import ConversationBufferWindowMemory\n",
    "from langchain.llms import HuggingFacePipeline\n",
    "from langchain.schema import BaseOutputParser\n",
    "from transformers import (\n",
    "    AutoModelForCausalLM,\n",
    "    AutoTokenizer,\n",
    "    StoppingCriteria,\n",
    "    StoppingCriteriaList,\n",
    "    pipeline,\n",
    ")\n",
    " \n",
    "warnings.filterwarnings(\"ignore\", category=UserWarning)"
   ]
  },
  {
   "cell_type": "code",
   "execution_count": 16,
   "id": "1bd37a30",
   "metadata": {},
   "outputs": [
    {
     "data": {
      "application/vnd.jupyter.widget-view+json": {
       "model_id": "cc60867216714fa5b2288700c3d25788",
       "version_major": 2,
       "version_minor": 0
      },
      "text/plain": [
       "Loading checkpoint shards:   0%|          | 0/2 [00:00<?, ?it/s]"
      ]
     },
     "metadata": {},
     "output_type": "display_data"
    },
    {
     "name": "stderr",
     "output_type": "stream",
     "text": [
      "Special tokens have been added in the vocabulary, make sure the associated word embeddings are fine-tuned or trained.\n"
     ]
    }
   ],
   "source": [
    "MODEL_NAME = \"llama-2-7b-kbase-pangenome-epochs\"\n",
    "model = AutoModelForCausalLM.from_pretrained(\n",
    "    MODEL_NAME, device_map=\"auto\"\n",
    ")\n",
    "model = model.eval()\n",
    "tokenizer = AutoTokenizer.from_pretrained(MODEL_NAME)\n",
    "# model genration config\n",
    "generation_config = model.generation_config\n",
    "generation_config.temperature = 0\n",
    "generation_config.num_return_sequences = 1\n",
    "generation_config.max_new_tokens = 3000\n",
    "generation_config.use_cache = False\n",
    "generation_config.repetition_penalty = 1\n",
    "generation_config.pad_token_id = tokenizer.eos_token_id\n",
    "generation_config.eos_token_id = tokenizer.eos_token_id\n",
    "\n",
    "generation_pipeline = pipeline(\n",
    "    model=model,\n",
    "    tokenizer=tokenizer,\n",
    "    return_full_text=True,\n",
    "    task=\"text-generation\",\n",
    "    generation_config=generation_config,\n",
    ")\n",
    " \n",
    "llm = HuggingFacePipeline(pipeline=generation_pipeline)"
   ]
  },
  {
   "cell_type": "code",
   "execution_count": 7,
   "id": "029d5cdb",
   "metadata": {},
   "outputs": [],
   "source": [
    "truth = \"\"\"\n",
    "# taxonomy\n",
    "d__Bacteria;p__Pseudomonadota;c__Gammaproteobacteria;o__Pseudomonadales;f__Pseudomonadaceae;g__Pseudomonas_E;s__Pseudomonas_E syringae\n",
    "# environments\n",
    "\n",
    "# sequence type\n",
    "GTDB\n",
    "# start ordered protein list\n",
    "U  30_UPI00200C438A 50_UPI00200C438A 70_UPI00200C438A 90_A0A0P9R368 PreQ0 transporter\n",
    "U unannotated\n",
    "U  30_J2RFE1 50_A0A010RQZ9 70_W0MUI5 90_A0A0P9ZR62 Cytochrome C assembly family protein (Fragment)\n",
    "U  30_A0A4R1F0D9 50_A0A0B2DAA0 70_A0A5E7CXU7 90_A0A656GPL0 Signal recognition particle protein\n",
    "U  30_A0A132HYN2 50_A0A2P6AVB6 70_A0A285P9N0 90_A0A285P9N0 Ribosome maturation factor RimM\n",
    "U  30_A0A2G9ZS82 50_A0A1E4V626 70_Q886V1 90_Q886V1 tRNA (guanine-N(1)-)-methyltransferase\n",
    "U  30_A0A7C9GXV8 50_A0A3A1YK24 70_Q02RL6 90_Q88MV4 50S ribosomal protein L19\n",
    "U  30_K1ZJ70 50_A0A2H9T8K8 70_A0A8T3SGZ1 90_C3K1G8 Tyrosine recombinase XerD\n",
    "U  30_A0A485EFJ8 50_A0A485EFJ8 70_A0A448DQI1 90_A0A379IAU0 Thiol:disulfide interchange protein\n",
    "U  30_A0A1Q9R1N9 50_A0A1Q9R1N9 70_A0A1Q9R1N9 90_A0A3M5WCN7 Homoserine dehydrogenase\n",
    "U  30_A0A7T4URI0 50_A0A7T4URI0 70_A0A481QN74 90_A0A3M6G4Q3 Threonine synthase\n",
    "U  30_UPI0021AC3415 50_A0A1C3JPP1 70_A0A658K122 90_A0A658K122 histidine kinase (Fragment)\n",
    "U  30_Q4ZWX9 50_Q4ZWX9 70_Q4ZWX9 90_F3G1T4 EAL:response regulator receiver\n",
    "U  30_A0A2J7UK61 50_A0A0N8TGA2 70_A0A0N8TGA2 90_A0A2S4I431 DNA-binding response regulator, LuxR family\n",
    "U  30_U6ZRM7 50_U6ZRM7 70_A0A244EP17 90_Q48LV1 TIGR02285 family protein\n",
    "U  30_UPI0014123134 50_A0A0Q0C0P6 70_A0A0Q0C0P6 90_A0A0P9VE64 YaeQ\n",
    "U  30_UPI0004916252 50_UPI00140D1F63 70_A0A917PTM9 90_A0A0Q0CTR3 Single-stranded-DNA-specific exonuclease RecJ\n",
    "U  30_A0A1U9MH61 50_A0A3M3TGC5 70_A0A1Y6JS96 90_A0A1Y6JS96 NADPH dehydrogenase\n",
    "U  30_UPI000FFC7370 50_A0A6N7CES7 70_A0A6M8M8T5 90_A0A0Q0DUE3 histidine kinase\n",
    "U  30_A0A1X0N434 50_A0A1X0N434 70_A0A3M3WIY9 90_A0A3M3WIY9 Tellurite resistance TerB family protein\n",
    "U  30_A0A2V1JYY2 50_UPI000F073E35 70_A0A3M4W4X2 RING-type E3 ubiquitin transferase\n",
    "U  30_A0A0Q0EF41 50_A0A0Q0EF41 70_A0A8B4AJ84 90_A0A8B4AJ84 Histidine kinase, HAMP region:Bacterial chemotaxis sensory transducer\n",
    "U  30_A0A4Q7ZAU3 50_A0A4Q7ZAU3 70_A0A3M5MDV5 90_Q4ZWW8 CheW-like protein\n",
    "U  30_A0A1M7LSX3 50_A0A1M7LSX3 70_A0A1M7LSX3 90_Q4ZWW7 MCP methyltransferase, CheR-type\n",
    "U  30_A0A0P9TLR3 50_A0A0P9TLR3 70_A0A0P9IFU5 90_A0A0N0VT88 CheW-like domain-containing protein\n",
    "U  30_A0A3M3XFR6 50_A0A3M3XFR6 70_A0A3M3XFR6 histidine kinase\n",
    "\"\"\""
   ]
  },
  {
   "cell_type": "code",
   "execution_count": 14,
   "id": "e49de3f0",
   "metadata": {},
   "outputs": [
    {
     "name": "stdout",
     "output_type": "stream",
     "text": [
      "?????\n",
      "U  30_A0A1H2RRN9 50_A0A1H2RRN9 70_A0A1H2RRN9 90_A0A1H2RRN9 Uncharacterized protein\n",
      "U  30_A0A1H2RRN9 50_A0A1H2RRN9 70_A0A1H2RRN9 90_A0A1H2RRN9 Uncharacterized protein\n",
      "U  30_A0A1H2RRN9 50_A0A1H2RRN9 70_A0A1H2RRN9 90_A0A1H2RRN9 Uncharacterized protein\n",
      "U  30_A0A1H2RRN9 50_A0A1H2RRN9 70_A0A1H2RRN9 90_A0A1H2RRN9 Uncharacterized protein\n",
      "U  30_A0A1H2RRN9 50_A0A1H2RRN9 70_A0A1H2RRN9 90_A\n",
      "CPU times: user 3min 41s, sys: 6.55 ms, total: 3min 41s\n",
      "Wall time: 3min 41s\n"
     ]
    }
   ],
   "source": [
    "%%time\n",
    "print(llm(\"\"\"I have some pangenome data, they are in the format # taxonomy, # environments, # sequence type and # some protein orders.\n",
    "        There is some missing part marked by \"???????\" I need you to help me complete the full text\n",
    "        the text is:\n",
    "        # taxonomy\n",
    "        d__Bacteria;p__Pseudomonadota;c__Gammaproteobacteria;o__Pseudomonadales;f__Pseudomonadaceae;g__Pseudomonas_E;s__Pseudomonas_E syringae\n",
    "        # environments\n",
    "\n",
    "        # sequence type\n",
    "        GTDB\n",
    "        # start ordered protein list\n",
    "        U  30_UPI00200C438A 50_UPI00200C438A 70_UPI00200C438A 90_A0A0P9R368 ????\n",
    "        U unannotated\n",
    "        U  30_J2RFE1 50_A0A010RQZ9 70_W0MUI5 90_A0A0P9ZR62 ?????\n",
    "        U  30_A0A4R1F0D9 50_A0A0B2DAA0 70_A0A5E7CXU7 90_A0A656GPL0 Signal recognition particle protein\n",
    "        U  30_A0A485EFJ8 50_A0A485EFJ8 70_A0A448DQI1 90_A0A379IAU0 Thiol:disulfide interchange protein\n",
    "        U  30_A0A1Q9R1N9 50_A0A1Q9R1N9 70_A0A1Q9R1N9 90_A0A3M5WCN7 Homoserine dehydrogenase\n",
    "        U  30_A0A7T4URI0 50_A0A7T4URI0 70_A0A481QN74 90_A0A3M6G4Q3 Threonine synthase\n",
    "        U  30_UPI0021AC3415 50_A0A1C3JPP1 70_A0A658K122 90_A0A658K122 histidine kinase (Fragment)\n",
    "        U  30_Q4ZWX9 50_Q4ZWX9 70_Q4ZWX9 90_F3G1T4 EAL:response regulator receiver\n",
    "        U  ????? DNA-binding response regulator, LuxR family\n",
    "        U  30_U6ZRM7 50_U6ZRM7 70_A0A244EP17 90_Q48LV1 TIGR02285 family protein\n",
    "        \"\"\"))"
   ]
  }
 ],
 "metadata": {
  "kernelspec": {
   "display_name": "Python 3 (ipykernel)",
   "language": "python",
   "name": "python3"
  },
  "language_info": {
   "codemirror_mode": {
    "name": "ipython",
    "version": 3
   },
   "file_extension": ".py",
   "mimetype": "text/x-python",
   "name": "python",
   "nbconvert_exporter": "python",
   "pygments_lexer": "ipython3",
   "version": "3.11.5"
  }
 },
 "nbformat": 4,
 "nbformat_minor": 5
}
