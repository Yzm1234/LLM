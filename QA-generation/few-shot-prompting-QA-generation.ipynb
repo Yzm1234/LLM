{
 "cells": [
  {
   "cell_type": "code",
   "execution_count": 19,
   "id": "035a8d8a",
   "metadata": {},
   "outputs": [],
   "source": [
    "import openai\n",
    "import config\n",
    "import os \n",
    "import json\n",
    "from langchain.llms import OpenAI\n",
    "from langchain.prompts import PromptTemplate\n",
    "from langchain.document_loaders import JSONLoader, DirectoryLoader, UnstructuredHTMLLoader\n",
    "from langchain.text_splitter import RecursiveCharacterTextSplitter\n",
    "from langchain.chat_models import ChatOpenAI\n",
    "from langchain.schema import HumanMessage, SystemMessage"
   ]
  },
  {
   "cell_type": "code",
   "execution_count": 3,
   "id": "71c4a9c7",
   "metadata": {},
   "outputs": [],
   "source": [
    "key = \"sk-jaadXZEd5xxxxxxxxxxxxxxxxxxx7Y5cAR58M\""
   ]
  },
  {
   "cell_type": "code",
   "execution_count": 4,
   "id": "cebf6779",
   "metadata": {},
   "outputs": [],
   "source": [
    "os.environ[\"OPENAI_API_KEY\"] = key"
   ]
  },
  {
   "cell_type": "code",
   "execution_count": 45,
   "id": "4a1c4a90",
   "metadata": {},
   "outputs": [
    {
     "data": {
      "text/plain": [
       "92"
      ]
     },
     "execution_count": 45,
     "metadata": {},
     "output_type": "execute_result"
    }
   ],
   "source": [
    "html_dir_loader = DirectoryLoader('/scratch/ac.pgupta/convLLM/kbasedocs', glob=\"**/[!.]*.html\", loader_cls=UnstructuredHTMLLoader)\n",
    "data_html = html_dir_loader.load()\n",
    "len(data_html)"
   ]
  },
  {
   "cell_type": "markdown",
   "id": "3700feda",
   "metadata": {},
   "source": [
    "### document text example"
   ]
  },
  {
   "cell_type": "code",
   "execution_count": 48,
   "id": "4ece9845",
   "metadata": {},
   "outputs": [
    {
     "name": "stdout",
     "output_type": "stream",
     "text": [
      "'KBase Documentation\n",
      "\n",
      "Here you will find guidance for getting started with KBase, full documentation for users and App developers, and help with troubleshooting.\n",
      "\n",
      "How to cite KBase:\n",
      "\n",
      "Arkin AP, Cottingham RW, Henry CS, Harris NL, Stevens RL, Maslov S, et al. KBase: The United States Department of Energy Systems Biology Knowledgebase. Nature Biotechnology. 2018;36: 566. doi: 10.1038/nbt.4163\n",
      "\n",
      "Funding:\n",
      "\n",
      "This work is supported as part of the Genomic Sciences Program DOE Systems Biology Knowledgebase (KBase) funded by the\n",
      "\n",
      "U.S. Department of Energy, Office of Science, Office of Biological and Environmental Research\n",
      "\n",
      "under Award Numbers DE-AC02-05CH11231, DE-AC02-06CH11357, DE-AC05-00OR22725, and DE-AC02-98CH10886.\n",
      "\n",
      "NextKBase Terms & Conditions\n",
      "\n",
      "Last modified \n",
      "\n",
      "2yr ago', metadata={'source': '/scratch/ac.pgupta/convLLM/kbasedocs/index.html'\n"
     ]
    }
   ],
   "source": [
    "print(\"\"\"'KBase Documentation\\n\\nHere you will find guidance for getting started with KBase, full documentation for users and App developers, and help with troubleshooting.\\n\\nHow to cite KBase:\\n\\nArkin AP, Cottingham RW, Henry CS, Harris NL, Stevens RL, Maslov S, et al. KBase: The United States Department of Energy Systems Biology Knowledgebase. Nature Biotechnology. 2018;36: 566. doi: 10.1038/nbt.4163\\n\\nFunding:\\n\\nThis work is supported as part of the Genomic Sciences Program DOE Systems Biology Knowledgebase (KBase) funded by the\\n\\nU.S. Department of Energy, Office of Science, Office of Biological and Environmental Research\\n\\nunder Award Numbers DE-AC02-05CH11231, DE-AC02-06CH11357, DE-AC05-00OR22725, and DE-AC02-98CH10886.\\n\\nNextKBase Terms & Conditions\\n\\nLast modified \\n\\n2yr ago', metadata={'source': '/scratch/ac.pgupta/convLLM/kbasedocs/index.html'\"\"\")"
   ]
  },
  {
   "cell_type": "code",
   "execution_count": 49,
   "id": "1792127b",
   "metadata": {},
   "outputs": [
    {
     "name": "stdout",
     "output_type": "stream",
     "text": [
      "Supported Browsers\n",
      "\n",
      "The KBase website and Narrative Interface should work on most modern web browsers, but we primarily focus on supporting Chrome.\n",
      "\n",
      "Supported Browsers\n",
      "\n",
      "The following desktop web browsers have been tested against the KBase web site and Narrative user interface. If you experience any issue using these browsers with our site please report it through the\n",
      "\n",
      "Help Board\n",
      "\n",
      "OS Supported Browsers Mac Chrome Firefox Safari 10 (macOS Sierra) and up Windows Firefox Microsoft Edge - not recommended Linux Chrome Firefox\n",
      "\n",
      "Ad blockers may prevent KBase from working in your web browser\n",
      "\n",
      "Some ad-blockers and browser extensions may cause errors within the Narrative Interface. We are working to identify issues with commonly used browser extensions, but you may want to disable browser extensions if you encounter issues within KBase.\n",
      "\n",
      "Mobile\n",
      "\n",
      "KBase is currently not supported on mobile browsers. The KBase website and services should work with tablet browsers on iPad and Android devices in landscape orientation, but we do not currently test on these platforms so there may be compatibility issues. Watch for future updates as KBase goes responsive and mobile.\n",
      "\n",
      "Installation of Supported Browsers\n",
      "\n",
      "Chrome\n",
      "\n",
      "Chrome is the best browser to use for KBase. The Chrome browser is produced by Google, Inc., and is freely available. Chrome operates on a rolling release, meaning that it is updated frequently and it is not easy to track specific versions. Our best advice is to make sure you are using the most recent version available. On Mac and Windows this is built into the Chrome application itself.\n",
      "\n",
      "​Download Chrome​\n",
      "\n",
      "Firefox\n",
      "\n",
      "Firefox, produced by the non-profit Mozilla Corporation, is a freely available, open source browser for Mac, Windows, Linux, and other systems. Like Chrome, Firefox is updated frequently, so it is not feasible for us to recommend a specific (or even minimum) version. Our best advice is to make sure you are using the most recent version available. Recent versions of Firefox will automatically update themselves on Mac and Windows.\n",
      "\n",
      "​Download Firefox​\n",
      "\n",
      "Safari\n",
      "\n",
      "Safari is distributed with Mac OS X. (We do not support the Windows version of Safari.) Specific versions of Mac OS X support specific versions of Safari – see this\n",
      "\n",
      "Wikipedia entry\n",
      "\n",
      "for details.\n",
      "\n",
      "Microsoft Edge\n",
      "\n",
      "Microsoft Edge\n",
      "\n",
      "is the new web browser for Windows 10; it replaces Internet Explorer. You should be able to use KBase on Edge, but this has not been extensively tested.\n",
      "\n",
      "Unsupported Browsers\n",
      "\n",
      "KBase is not supported on Internet Explorer. It should work on Microsoft Edge, but it has not been extensively tested. For the best chance of success on Edge, be sure you are using the most recent version.\n",
      "\n",
      "Older versions of supported browsers are also not supported. Please ensure that your browser and system are up-to-date before reporting a problem with a supported browser.\n",
      "\n",
      "Other modern browsers, such as Opera, may work with KBase, but as we do not test with them we cannot make any assurances about their operation.\n",
      "\n",
      "PreviousAuthentication Update\n",
      "\n",
      "NextNarrative Quick Start\n",
      "\n",
      "Last modified \n",
      "\n",
      "1yr ago\n"
     ]
    }
   ],
   "source": [
    "print(\"\"\"Supported Browsers\\n\\nThe KBase website and Narrative Interface should work on most modern web browsers, but we primarily focus on supporting Chrome.\\n\\nSupported Browsers\\n\\nThe following desktop web browsers have been tested against the KBase web site and Narrative user interface. If you experience any issue using these browsers with our site please report it through the\\n\\nHelp Board\\n\\nOS Supported Browsers Mac Chrome Firefox Safari 10 (macOS Sierra) and up Windows Firefox Microsoft Edge - not recommended Linux Chrome Firefox\\n\\nAd blockers may prevent KBase from working in your web browser\\n\\nSome ad-blockers and browser extensions may cause errors within the Narrative Interface. We are working to identify issues with commonly used browser extensions, but you may want to disable browser extensions if you encounter issues within KBase.\\n\\nMobile\\n\\nKBase is currently not supported on mobile browsers. The KBase website and services should work with tablet browsers on iPad and Android devices in landscape orientation, but we do not currently test on these platforms so there may be compatibility issues. Watch for future updates as KBase goes responsive and mobile.\\n\\nInstallation of Supported Browsers\\n\\nChrome\\n\\nChrome is the best browser to use for KBase. The Chrome browser is produced by Google, Inc., and is freely available. Chrome operates on a rolling release, meaning that it is updated frequently and it is not easy to track specific versions. Our best advice is to make sure you are using the most recent version available. On Mac and Windows this is built into the Chrome application itself.\\n\\n\\u200bDownload Chrome\\u200b\\n\\nFirefox\\n\\nFirefox, produced by the non-profit Mozilla Corporation, is a freely available, open source browser for Mac, Windows, Linux, and other systems. Like Chrome, Firefox is updated frequently, so it is not feasible for us to recommend a specific (or even minimum) version. Our best advice is to make sure you are using the most recent version available. Recent versions of Firefox will automatically update themselves on Mac and Windows.\\n\\n\\u200bDownload Firefox\\u200b\\n\\nSafari\\n\\nSafari is distributed with Mac OS X. (We do not support the Windows version of Safari.) Specific versions of Mac OS X support specific versions of Safari – see this\\n\\nWikipedia entry\\n\\nfor details.\\n\\nMicrosoft Edge\\n\\nMicrosoft Edge\\n\\nis the new web browser for Windows 10; it replaces Internet Explorer. You should be able to use KBase on Edge, but this has not been extensively tested.\\n\\nUnsupported Browsers\\n\\nKBase is not supported on Internet Explorer. It should work on Microsoft Edge, but it has not been extensively tested. For the best chance of success on Edge, be sure you are using the most recent version.\\n\\nOlder versions of supported browsers are also not supported. Please ensure that your browser and system are up-to-date before reporting a problem with a supported browser.\\n\\nOther modern browsers, such as Opera, may work with KBase, but as we do not test with them we cannot make any assurances about their operation.\\n\\nPreviousAuthentication Update\\n\\nNextNarrative Quick Start\\n\\nLast modified \\n\\n1yr ago\"\"\")"
   ]
  },
  {
   "cell_type": "code",
   "execution_count": 6,
   "id": "a1698632",
   "metadata": {},
   "outputs": [],
   "source": [
    "llm = ChatOpenAI(temperature=0, model=\"gpt-4\")"
   ]
  },
  {
   "cell_type": "code",
   "execution_count": 66,
   "id": "27f3a2f8",
   "metadata": {},
   "outputs": [
    {
     "data": {
      "text/plain": [
       "408"
      ]
     },
     "execution_count": 66,
     "metadata": {},
     "output_type": "execute_result"
    }
   ],
   "source": [
    "text_splitter = RecursiveCharacterTextSplitter(\n",
    "    chunk_size = 1000,\n",
    "    chunk_overlap  = 20,\n",
    "    length_function = len,\n",
    ")\n",
    "documents_html = text_splitter.split_documents(data_html)\n",
    "len(documents_html)"
   ]
  },
  {
   "cell_type": "code",
   "execution_count": 67,
   "id": "85f2a37f",
   "metadata": {},
   "outputs": [
    {
     "data": {
      "text/plain": [
       "Document(page_content='KBase Documentation\\n\\nHere you will find guidance for getting started with KBase, full documentation for users and App developers, and help with troubleshooting.\\n\\nHow to cite KBase:\\n\\nArkin AP, Cottingham RW, Henry CS, Harris NL, Stevens RL, Maslov S, et al. KBase: The United States Department of Energy Systems Biology Knowledgebase. Nature Biotechnology. 2018;36: 566. doi: 10.1038/nbt.4163\\n\\nFunding:\\n\\nThis work is supported as part of the Genomic Sciences Program DOE Systems Biology Knowledgebase (KBase) funded by the\\n\\nU.S. Department of Energy, Office of Science, Office of Biological and Environmental Research\\n\\nunder Award Numbers DE-AC02-05CH11231, DE-AC02-06CH11357, DE-AC05-00OR22725, and DE-AC02-98CH10886.\\n\\nNextKBase Terms & Conditions\\n\\nLast modified \\n\\n2yr ago', metadata={'source': '/scratch/ac.pgupta/convLLM/kbasedocs/index.html'})"
      ]
     },
     "execution_count": 67,
     "metadata": {},
     "output_type": "execute_result"
    }
   ],
   "source": [
    "documents_html[0]"
   ]
  },
  {
   "cell_type": "markdown",
   "id": "e3f3654d",
   "metadata": {},
   "source": [
    "### Few shot example prompt"
   ]
  },
  {
   "cell_type": "code",
   "execution_count": 52,
   "id": "9197810f",
   "metadata": {},
   "outputs": [],
   "source": [
    "few_shot_examples = [\n",
    "  {\n",
    "    \"Question\": \"\"\"Given the text provided, generate several questions and answers pairs from the text. \n",
    "                text is:\n",
    "                KBase Documentation\\n\\nHere you will find guidance for getting started with KBase, full documentation for users and App developers, and help with troubleshooting.\\n\\nHow to cite KBase:\\n\\nArkin AP, Cottingham RW, Henry CS, Harris NL, Stevens RL, Maslov S, et al. KBase: The United States Department of Energy Systems Biology Knowledgebase. Nature Biotechnology. 2018;36: 566. doi: 10.1038/nbt.4163\\n\\nFunding:\\n\\nThis work is supported as part of the Genomic Sciences Program DOE Systems Biology Knowledgebase (KBase) funded by the\\n\\nU.S. Department of Energy, Office of Science, Office of Biological and Environmental Research\\n\\nunder Award Numbers DE-AC02-05CH11231, DE-AC02-06CH11357, DE-AC05-00OR22725, and DE-AC02-98CH10886.\\n\\nNextKBase Terms & Conditions\\n\\nLast modified \\n\\n2yr ago\n",
    "                \"\"\",\n",
    "\n",
    "    \"Answer\":\n",
    "    \"\"\"\n",
    "    1. ### question: How to cite KBase? ### answer: Arkin AP, Cottingham RW, Henry CS, Harris NL, Stevens RL, Maslov S, et al. ;\n",
    "    2. ### question: What is KBase? ### answer: The United States Department of Energy Systems Biology Knowledgebase.;\n",
    "    3. ### question: Who supports and funds KBase? ### answer:The United States Department of Energy (DOE);\n",
    "\n",
    "    \"\"\"\n",
    "  },\n",
    "  {\n",
    "    \"Question\": \"\"\"Given the text provided, generate several questions and answers pairs from the text. \n",
    "                text is:\n",
    "                Supported Browsers\\n\\nThe KBase website and Narrative Interface should work on most modern web browsers, but we primarily focus on supporting Chrome.\\n\\nSupported Browsers\\n\\nThe following desktop web browsers have been tested against the KBase web site and Narrative user interface. If you experience any issue using these browsers with our site please report it through the\\n\\nHelp Board\\n\\nOS Supported Browsers Mac Chrome Firefox Safari 10 (macOS Sierra) and up Windows Firefox Microsoft Edge - not recommended Linux Chrome Firefox\\n\\nAd blockers may prevent KBase from working in your web browser\\n\\nSome ad-blockers and browser extensions may cause errors within the Narrative Interface. We are working to identify issues with commonly used browser extensions, but you may want to disable browser extensions if you encounter issues within KBase.\\n\\nMobile\\n\\nKBase is currently not supported on mobile browsers. The KBase website and services should work with tablet browsers on iPad and Android devices in landscape orientation, but we do not currently test on these platforms so there may be compatibility issues. Watch for future updates as KBase goes responsive and mobile.\\n\\nInstallation of Supported Browsers\\n\\nChrome\\n\\nChrome is the best browser to use for KBase. The Chrome browser is produced by Google, Inc., and is freely available. Chrome operates on a rolling release, meaning that it is updated frequently and it is not easy to track specific versions. Our best advice is to make sure you are using the most recent version available. On Mac and Windows this is built into the Chrome application itself.\\n\\n\\u200bDownload Chrome\\u200b\\n\\nFirefox\\n\\nFirefox, produced by the non-profit Mozilla Corporation, is a freely available, open source browser for Mac, Windows, Linux, and other systems. Like Chrome, Firefox is updated frequently, so it is not feasible for us to recommend a specific (or even minimum) version. Our best advice is to make sure you are using the most recent version available. Recent versions of Firefox will automatically update themselves on Mac and Windows.\\n\\n\\u200bDownload Firefox\\u200b\\n\\nSafari\\n\\nSafari is distributed with Mac OS X. (We do not support the Windows version of Safari.) Specific versions of Mac OS X support specific versions of Safari – see this\\n\\nWikipedia entry\\n\\nfor details.\\n\\nMicrosoft Edge\\n\\nMicrosoft Edge\\n\\nis the new web browser for Windows 10; it replaces Internet Explorer. You should be able to use KBase on Edge, but this has not been extensively tested.\\n\\nUnsupported Browsers\\n\\nKBase is not supported on Internet Explorer. It should work on Microsoft Edge, but it has not been extensively tested. For the best chance of success on Edge, be sure you are using the most recent version.\\n\\nOlder versions of supported browsers are also not supported. Please ensure that your browser and system are up-to-date before reporting a problem with a supported browser.\\n\\nOther modern browsers, such as Opera, may work with KBase, but as we do not test with them we cannot make any assurances about their operation.\\n\\nPreviousAuthentication Update\\n\\nNextNarrative Quick Start\\n\\nLast modified \\n\\n1yr ago\n",
    "                \"\"\",\n",
    "\n",
    "    \"Answer\":\n",
    "    \"\"\"\n",
    "    1. ### question: What browswers are supported by KBase? ### answer: \n",
    "    There are four browswers that are supported by KBase, they are\n",
    "    1. Chrome:Chrome is the best browser to use for KBase. \n",
    "    2. Firefox: Firefox, produced by the non-profit Mozilla Corporation, is a freely available, open source browser for Mac, Windows, Linux, and other systems. \n",
    "    3. Safari: Safari is distributed with Mac OS X. (We do not support the Windows version of Safari.)\n",
    "    4. Microsoft Edge: Microsoft Edgeis the new web browser for Windows 10; it replaces Internet Explorer. You should be able to use KBase on Edge, but this has not been extensively tested.\n",
    "    2. ### question: What browswers are supported for Mac? ### answer: Chrome, Firefox and Safari 10 (macOS Sierra) and up\n",
    "    3. ### question: Why Kbase is not working in my browswer? ### answer:Ad blockers may prevent KBase from working in your web browserSome ad-blockers and browser extensions may cause errors within the Narrative Interface. We are working to identify issues with commonly used browser extensions, but you may want to disable browser extensions if you encounter issues within KBase.\n",
    "\n",
    "    \"\"\"\n",
    "  }\n",
    "]"
   ]
  },
  {
   "cell_type": "code",
   "execution_count": 58,
   "id": "0261550c",
   "metadata": {},
   "outputs": [
    {
     "name": "stdout",
     "output_type": "stream",
     "text": [
      "Question: Given the text provided, generate several questions and answers pairs from the text. \n",
      "                text is:\n",
      "                KBase Documentation\n",
      "\n",
      "Here you will find guidance for getting started with KBase, full documentation for users and App developers, and help with troubleshooting.\n",
      "\n",
      "How to cite KBase:\n",
      "\n",
      "Arkin AP, Cottingham RW, Henry CS, Harris NL, Stevens RL, Maslov S, et al. KBase: The United States Department of Energy Systems Biology Knowledgebase. Nature Biotechnology. 2018;36: 566. doi: 10.1038/nbt.4163\n",
      "\n",
      "Funding:\n",
      "\n",
      "This work is supported as part of the Genomic Sciences Program DOE Systems Biology Knowledgebase (KBase) funded by the\n",
      "\n",
      "U.S. Department of Energy, Office of Science, Office of Biological and Environmental Research\n",
      "\n",
      "under Award Numbers DE-AC02-05CH11231, DE-AC02-06CH11357, DE-AC05-00OR22725, and DE-AC02-98CH10886.\n",
      "\n",
      "NextKBase Terms & Conditions\n",
      "\n",
      "Last modified \n",
      "\n",
      "2yr ago\n",
      "                \n",
      "Answer: \n",
      "    1. ### question: How to cite KBase? ### answer: Arkin AP, Cottingham RW, Henry CS, Harris NL, Stevens RL, Maslov S, et al. ;\n",
      "    2. ### question: What is KBase? ### answer: The United States Department of Energy Systems Biology Knowledgebase.;\n",
      "    3. ### question: Who supports and funds KBase? ### answer:The United States Department of Energy (DOE);\n",
      "\n",
      "    \n"
     ]
    }
   ],
   "source": [
    "example_prompt = PromptTemplate(input_variables=[\"Question\", \"Answer\"], template=\"Question: {Question}\\nAnswer: {Answer}\")\n",
    "\n",
    "print(example_prompt.format(**few_shot_examples[0]))"
   ]
  },
  {
   "cell_type": "code",
   "execution_count": 59,
   "id": "7c6438d9",
   "metadata": {},
   "outputs": [
    {
     "name": "stdout",
     "output_type": "stream",
     "text": [
      "Question: Given the text provided, generate several questions and answers pairs from the text. \n",
      "                text is:\n",
      "                KBase Documentation\n",
      "\n",
      "Here you will find guidance for getting started with KBase, full documentation for users and App developers, and help with troubleshooting.\n",
      "\n",
      "How to cite KBase:\n",
      "\n",
      "Arkin AP, Cottingham RW, Henry CS, Harris NL, Stevens RL, Maslov S, et al. KBase: The United States Department of Energy Systems Biology Knowledgebase. Nature Biotechnology. 2018;36: 566. doi: 10.1038/nbt.4163\n",
      "\n",
      "Funding:\n",
      "\n",
      "This work is supported as part of the Genomic Sciences Program DOE Systems Biology Knowledgebase (KBase) funded by the\n",
      "\n",
      "U.S. Department of Energy, Office of Science, Office of Biological and Environmental Research\n",
      "\n",
      "under Award Numbers DE-AC02-05CH11231, DE-AC02-06CH11357, DE-AC05-00OR22725, and DE-AC02-98CH10886.\n",
      "\n",
      "NextKBase Terms & Conditions\n",
      "\n",
      "Last modified \n",
      "\n",
      "2yr ago\n",
      "                \n",
      "Answer: \n",
      "    1. ### question: How to cite KBase? ### answer: Arkin AP, Cottingham RW, Henry CS, Harris NL, Stevens RL, Maslov S, et al. ;\n",
      "    2. ### question: What is KBase? ### answer: The United States Department of Energy Systems Biology Knowledgebase.;\n",
      "    3. ### question: Who supports and funds KBase? ### answer:The United States Department of Energy (DOE);\n",
      "\n",
      "    \n",
      "\n",
      "Question: Given the text provided, generate several questions and answers pairs from the text. \n",
      "                text is:\n",
      "                Supported Browsers\n",
      "\n",
      "The KBase website and Narrative Interface should work on most modern web browsers, but we primarily focus on supporting Chrome.\n",
      "\n",
      "Supported Browsers\n",
      "\n",
      "The following desktop web browsers have been tested against the KBase web site and Narrative user interface. If you experience any issue using these browsers with our site please report it through the\n",
      "\n",
      "Help Board\n",
      "\n",
      "OS Supported Browsers Mac Chrome Firefox Safari 10 (macOS Sierra) and up Windows Firefox Microsoft Edge - not recommended Linux Chrome Firefox\n",
      "\n",
      "Ad blockers may prevent KBase from working in your web browser\n",
      "\n",
      "Some ad-blockers and browser extensions may cause errors within the Narrative Interface. We are working to identify issues with commonly used browser extensions, but you may want to disable browser extensions if you encounter issues within KBase.\n",
      "\n",
      "Mobile\n",
      "\n",
      "KBase is currently not supported on mobile browsers. The KBase website and services should work with tablet browsers on iPad and Android devices in landscape orientation, but we do not currently test on these platforms so there may be compatibility issues. Watch for future updates as KBase goes responsive and mobile.\n",
      "\n",
      "Installation of Supported Browsers\n",
      "\n",
      "Chrome\n",
      "\n",
      "Chrome is the best browser to use for KBase. The Chrome browser is produced by Google, Inc., and is freely available. Chrome operates on a rolling release, meaning that it is updated frequently and it is not easy to track specific versions. Our best advice is to make sure you are using the most recent version available. On Mac and Windows this is built into the Chrome application itself.\n",
      "\n",
      "​Download Chrome​\n",
      "\n",
      "Firefox\n",
      "\n",
      "Firefox, produced by the non-profit Mozilla Corporation, is a freely available, open source browser for Mac, Windows, Linux, and other systems. Like Chrome, Firefox is updated frequently, so it is not feasible for us to recommend a specific (or even minimum) version. Our best advice is to make sure you are using the most recent version available. Recent versions of Firefox will automatically update themselves on Mac and Windows.\n",
      "\n",
      "​Download Firefox​\n",
      "\n",
      "Safari\n",
      "\n",
      "Safari is distributed with Mac OS X. (We do not support the Windows version of Safari.) Specific versions of Mac OS X support specific versions of Safari – see this\n",
      "\n",
      "Wikipedia entry\n",
      "\n",
      "for details.\n",
      "\n",
      "Microsoft Edge\n",
      "\n",
      "Microsoft Edge\n",
      "\n",
      "is the new web browser for Windows 10; it replaces Internet Explorer. You should be able to use KBase on Edge, but this has not been extensively tested.\n",
      "\n",
      "Unsupported Browsers\n",
      "\n",
      "KBase is not supported on Internet Explorer. It should work on Microsoft Edge, but it has not been extensively tested. For the best chance of success on Edge, be sure you are using the most recent version.\n",
      "\n",
      "Older versions of supported browsers are also not supported. Please ensure that your browser and system are up-to-date before reporting a problem with a supported browser.\n",
      "\n",
      "Other modern browsers, such as Opera, may work with KBase, but as we do not test with them we cannot make any assurances about their operation.\n",
      "\n",
      "PreviousAuthentication Update\n",
      "\n",
      "NextNarrative Quick Start\n",
      "\n",
      "Last modified \n",
      "\n",
      "1yr ago\n",
      "                \n",
      "Answer: \n",
      "    1. ### question: What browswers are supported by KBase? ### answer: \n",
      "    There are four browswers that are supported by KBase, they are\n",
      "    1. Chrome:Chrome is the best browser to use for KBase. \n",
      "    2. Firefox: Firefox, produced by the non-profit Mozilla Corporation, is a freely available, open source browser for Mac, Windows, Linux, and other systems. \n",
      "    3. Safari: Safari is distributed with Mac OS X. (We do not support the Windows version of Safari.)\n",
      "    4. Microsoft Edge: Microsoft Edgeis the new web browser for Windows 10; it replaces Internet Explorer. You should be able to use KBase on Edge, but this has not been extensively tested.\n",
      "    2. ### question: What browswers are supported for Mac? ### answer: Chrome, Firefox and Safari 10 (macOS Sierra) and up\n",
      "    3. ### question: Why Kbase is not working in my browswer? ### answer:Ad blockers may prevent KBase from working in your web browserSome ad-blockers and browser extensions may cause errors within the Narrative Interface. We are working to identify issues with commonly used browser extensions, but you may want to disable browser extensions if you encounter issues within KBase.\n",
      "\n",
      "    \n",
      "\n",
      "Question: Given the text provided, generate several questions and answers pairs from the text. text is:\n"
     ]
    }
   ],
   "source": [
    "instruction_prompt=\"Given the text provided, generate several questions and answers pairs from the text. text is:\"\n",
    "prompt = FewShotPromptTemplate(\n",
    "    examples=few_shot_examples,\n",
    "    example_prompt=example_prompt,\n",
    "    suffix=\"Question: {input}\",\n",
    "    input_variables=[\"input\"]\n",
    ")\n",
    "prompt\n",
    "print(prompt.format(input=instruction_prompt))"
   ]
  },
  {
   "cell_type": "code",
   "execution_count": 61,
   "id": "fd314096",
   "metadata": {},
   "outputs": [],
   "source": [
    "system_message = SystemMessage(content=prompt.format(input=instruction_prompt))\n",
    "\n",
    "text = \"\"\"\n",
    "Job Browser\\n\\nThe Job Browser is one of the buttons on the left sidebar menu in KBase. In addition to watching jobs within the Narratives, the Job Browser allows you to monitor and manage your jobs. By default, it shows all jobs submitted within the last 48 hours. You can change the timeframe to an hour, a week, a month, or a custom range of dates.\\n\\nThe check boxes allow you to filter the jobs by\\n\\n, and\\n\\nYou can check as many filters you want. Clicking one of the filters or changing the timeframe will update the page. Otherwise, the table does not auto-refresh. The two arrows in a circle to the right and below the timeframe will refresh the results in the table.\\n\\nThe results display basic information for the jobs such as the Narrative they are located within, App ID, Submission Time, Queue Time, Run Time, and Status. The name of the Narrative is hot-linked, and clicking on it will open a new tab with the Narrative. The App ID is hot-linked and clicking on it will open a new tab with the catalog page for the app.\\n\\nJob Status\\n\\nThe Job Status Cell has the status, an icon for the log, and a red cancel icon. Click the log icon to expand the table and show the contents of the log. Click the icon again to collapse the table. Canceling the job will prompt you to make sure you didn’t click it accidentally. Jobs that have been canceled may continue to show up as “Queued” or “Running” until they clear the system.\\n\\nJob Log\\n\\nThe Job ID and worker node are easily located and the log can be scrolled through within the pop-out. Job Logs can be downloaded in CSV, TSV, JSON, and TEXT formats using the download (downward-facing arrow into tray) icon.\\n\\nPreviousAnalyze Data Using KBase Apps\\n\\nNextRevise Your Narrative\\n\\nLast modified \\n\\n2yr ago\n",
    "\"\"\"\n",
    "human_message = HumanMessage(content=text)"
   ]
  },
  {
   "cell_type": "code",
   "execution_count": 63,
   "id": "13a086e3",
   "metadata": {},
   "outputs": [],
   "source": [
    "res = llm([system_message, human_message])"
   ]
  },
  {
   "cell_type": "code",
   "execution_count": 64,
   "id": "fa58cb9d",
   "metadata": {},
   "outputs": [
    {
     "data": {
      "text/plain": [
       "['Answer: ',\n",
       " '    1. ### question: What is the Job Browser in KBase? ### answer: The Job Browser is one of the buttons on the left sidebar menu in KBase. It allows you to monitor and manage your jobs. By default, it shows all jobs submitted within the last 48 hours. You can change the timeframe to an hour, a week, a month, or a custom range of dates.',\n",
       " '    2. ### question: What information does the Job Browser display? ### answer: The Job Browser displays basic information for the jobs such as the Narrative they are located within, App ID, Submission Time, Queue Time, Run Time, and Status.',\n",
       " '    3. ### question: What is the Job Status Cell? ### answer: The Job Status Cell has the status, an icon for the log, and a red cancel icon. Click the log icon to expand the table and show the contents of the log. Click the icon again to collapse the table. Canceling the job will prompt you to make sure you didn’t click it accidentally. Jobs that have been canceled may continue to show up as “Queued” or “Running” until they clear the system.',\n",
       " '    4. ### question: What is the Job Log? ### answer: The Job ID and worker node are easily located and the log can be scrolled through within the pop-out. Job Logs can be downloaded in CSV, TSV, JSON, and TEXT formats using the download (downward-facing arrow into tray) icon.']"
      ]
     },
     "execution_count": 64,
     "metadata": {},
     "output_type": "execute_result"
    }
   ],
   "source": [
    "res.content.split(\"\\n\")"
   ]
  },
  {
   "cell_type": "code",
   "execution_count": null,
   "id": "51c6d2e4",
   "metadata": {},
   "outputs": [],
   "source": []
  }
 ],
 "metadata": {
  "kernelspec": {
   "display_name": "Python 3 (ipykernel)",
   "language": "python",
   "name": "python3"
  },
  "language_info": {
   "codemirror_mode": {
    "name": "ipython",
    "version": 3
   },
   "file_extension": ".py",
   "mimetype": "text/x-python",
   "name": "python",
   "nbconvert_exporter": "python",
   "pygments_lexer": "ipython3",
   "version": "3.11.5"
  }
 },
 "nbformat": 4,
 "nbformat_minor": 5
}
